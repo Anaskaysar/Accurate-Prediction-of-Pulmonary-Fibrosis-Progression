{
 "cells": [
  {
   "cell_type": "markdown",
   "metadata": {},
   "source": [
    "# EfficientNet"
   ]
  },
  {
   "cell_type": "code",
   "execution_count": 26,
   "metadata": {},
   "outputs": [
    {
     "name": "stdout",
     "output_type": "stream",
     "text": [
      "Requirement already satisfied: tensorflow-gpu==2.9 in c:\\users\\user\\anaconda3\\envs\\keras-gpu\\lib\\site-packages (2.9.0)\n",
      "Requirement already satisfied: protobuf>=3.9.2 in c:\\users\\user\\anaconda3\\envs\\keras-gpu\\lib\\site-packages (from tensorflow-gpu==2.9) (3.12.3)\n",
      "Requirement already satisfied: wrapt>=1.11.0 in c:\\users\\user\\anaconda3\\envs\\keras-gpu\\lib\\site-packages (from tensorflow-gpu==2.9) (1.12.1)\n",
      "Requirement already satisfied: tensorboard<2.10,>=2.9 in c:\\users\\user\\anaconda3\\envs\\keras-gpu\\lib\\site-packages (from tensorflow-gpu==2.9) (2.9.1)\n",
      "Requirement already satisfied: grpcio<2.0,>=1.24.3 in c:\\users\\user\\anaconda3\\envs\\keras-gpu\\lib\\site-packages (from tensorflow-gpu==2.9) (1.27.2)\n",
      "Requirement already satisfied: astunparse>=1.6.0 in c:\\users\\user\\anaconda3\\envs\\keras-gpu\\lib\\site-packages (from tensorflow-gpu==2.9) (1.6.3)\n",
      "Requirement already satisfied: setuptools in c:\\users\\user\\anaconda3\\envs\\keras-gpu\\lib\\site-packages (from tensorflow-gpu==2.9) (47.3.1.post20200622)\n",
      "Requirement already satisfied: tensorflow-estimator<2.10.0,>=2.9.0rc0 in c:\\users\\user\\anaconda3\\envs\\keras-gpu\\lib\\site-packages (from tensorflow-gpu==2.9) (2.9.0)\n",
      "Requirement already satisfied: six>=1.12.0 in c:\\users\\user\\anaconda3\\envs\\keras-gpu\\lib\\site-packages (from tensorflow-gpu==2.9) (1.15.0)\n",
      "Requirement already satisfied: absl-py>=1.0.0 in c:\\users\\user\\anaconda3\\envs\\keras-gpu\\lib\\site-packages (from tensorflow-gpu==2.9) (1.3.0)\n",
      "Requirement already satisfied: keras-preprocessing>=1.1.1 in c:\\users\\user\\anaconda3\\envs\\keras-gpu\\lib\\site-packages (from tensorflow-gpu==2.9) (1.1.2)\n",
      "Requirement already satisfied: h5py>=2.9.0 in c:\\users\\user\\anaconda3\\envs\\keras-gpu\\lib\\site-packages (from tensorflow-gpu==2.9) (2.10.0)\n",
      "Requirement already satisfied: tensorflow-io-gcs-filesystem>=0.23.1 in c:\\users\\user\\anaconda3\\envs\\keras-gpu\\lib\\site-packages (from tensorflow-gpu==2.9) (0.27.0)\n",
      "Requirement already satisfied: libclang>=13.0.0 in c:\\users\\user\\anaconda3\\envs\\keras-gpu\\lib\\site-packages (from tensorflow-gpu==2.9) (14.0.6)\n",
      "Requirement already satisfied: flatbuffers<2,>=1.12 in c:\\users\\user\\anaconda3\\envs\\keras-gpu\\lib\\site-packages (from tensorflow-gpu==2.9) (1.12)\n",
      "Requirement already satisfied: packaging in c:\\users\\user\\anaconda3\\envs\\keras-gpu\\lib\\site-packages (from tensorflow-gpu==2.9) (21.3)\n",
      "Requirement already satisfied: opt-einsum>=2.3.2 in c:\\users\\user\\anaconda3\\envs\\keras-gpu\\lib\\site-packages (from tensorflow-gpu==2.9) (3.1.0)\n",
      "Requirement already satisfied: keras<2.10.0,>=2.9.0rc0 in c:\\users\\user\\anaconda3\\envs\\keras-gpu\\lib\\site-packages (from tensorflow-gpu==2.9) (2.9.0)\n",
      "Requirement already satisfied: gast<=0.4.0,>=0.2.1 in c:\\users\\user\\anaconda3\\envs\\keras-gpu\\lib\\site-packages (from tensorflow-gpu==2.9) (0.2.2)\n",
      "Requirement already satisfied: typing-extensions>=3.6.6 in c:\\users\\user\\anaconda3\\envs\\keras-gpu\\lib\\site-packages (from tensorflow-gpu==2.9) (4.3.0)\n",
      "Requirement already satisfied: numpy>=1.20 in c:\\users\\user\\anaconda3\\envs\\keras-gpu\\lib\\site-packages (from tensorflow-gpu==2.9) (1.21.6)\n",
      "Requirement already satisfied: google-pasta>=0.1.1 in c:\\users\\user\\anaconda3\\envs\\keras-gpu\\lib\\site-packages (from tensorflow-gpu==2.9) (0.2.0)\n",
      "Requirement already satisfied: termcolor>=1.1.0 in c:\\users\\user\\anaconda3\\envs\\keras-gpu\\lib\\site-packages (from tensorflow-gpu==2.9) (1.1.0)\n",
      "Requirement already satisfied: markdown>=2.6.8 in c:\\users\\user\\anaconda3\\envs\\keras-gpu\\lib\\site-packages (from tensorboard<2.10,>=2.9->tensorflow-gpu==2.9) (3.1.1)\n",
      "Requirement already satisfied: tensorboard-plugin-wit>=1.6.0 in c:\\users\\user\\anaconda3\\envs\\keras-gpu\\lib\\site-packages (from tensorboard<2.10,>=2.9->tensorflow-gpu==2.9) (1.6.0)\n",
      "Requirement already satisfied: wheel>=0.26 in c:\\users\\user\\anaconda3\\envs\\keras-gpu\\lib\\site-packages (from tensorboard<2.10,>=2.9->tensorflow-gpu==2.9) (0.34.2)\n",
      "Requirement already satisfied: google-auth<3,>=1.6.3 in c:\\users\\user\\anaconda3\\envs\\keras-gpu\\lib\\site-packages (from tensorboard<2.10,>=2.9->tensorflow-gpu==2.9) (1.14.1)\n",
      "Requirement already satisfied: requests<3,>=2.21.0 in c:\\users\\user\\anaconda3\\envs\\keras-gpu\\lib\\site-packages (from tensorboard<2.10,>=2.9->tensorflow-gpu==2.9) (2.24.0)\n",
      "Requirement already satisfied: werkzeug>=1.0.1 in c:\\users\\user\\anaconda3\\envs\\keras-gpu\\lib\\site-packages (from tensorboard<2.10,>=2.9->tensorflow-gpu==2.9) (2.2.2)\n",
      "Requirement already satisfied: google-auth-oauthlib<0.5,>=0.4.1 in c:\\users\\user\\anaconda3\\envs\\keras-gpu\\lib\\site-packages (from tensorboard<2.10,>=2.9->tensorflow-gpu==2.9) (0.4.1)\n",
      "Requirement already satisfied: tensorboard-data-server<0.7.0,>=0.6.0 in c:\\users\\user\\anaconda3\\envs\\keras-gpu\\lib\\site-packages (from tensorboard<2.10,>=2.9->tensorflow-gpu==2.9) (0.6.1)\n",
      "Requirement already satisfied: pyparsing!=3.0.5,>=2.0.2 in c:\\users\\user\\anaconda3\\envs\\keras-gpu\\lib\\site-packages (from packaging->tensorflow-gpu==2.9) (3.0.9)\n",
      "Requirement already satisfied: rsa<4.1,>=3.1.4 in c:\\users\\user\\anaconda3\\envs\\keras-gpu\\lib\\site-packages (from google-auth<3,>=1.6.3->tensorboard<2.10,>=2.9->tensorflow-gpu==2.9) (4.0)\n",
      "Requirement already satisfied: pyasn1-modules>=0.2.1 in c:\\users\\user\\anaconda3\\envs\\keras-gpu\\lib\\site-packages (from google-auth<3,>=1.6.3->tensorboard<2.10,>=2.9->tensorflow-gpu==2.9) (0.2.7)\n",
      "Requirement already satisfied: cachetools<5.0,>=2.0.0 in c:\\users\\user\\anaconda3\\envs\\keras-gpu\\lib\\site-packages (from google-auth<3,>=1.6.3->tensorboard<2.10,>=2.9->tensorflow-gpu==2.9) (4.1.0)\n",
      "Requirement already satisfied: chardet<4,>=3.0.2 in c:\\users\\user\\anaconda3\\envs\\keras-gpu\\lib\\site-packages (from requests<3,>=2.21.0->tensorboard<2.10,>=2.9->tensorflow-gpu==2.9) (3.0.4)\n",
      "Requirement already satisfied: idna<3,>=2.5 in c:\\users\\user\\anaconda3\\envs\\keras-gpu\\lib\\site-packages (from requests<3,>=2.21.0->tensorboard<2.10,>=2.9->tensorflow-gpu==2.9) (2.10)\n",
      "Requirement already satisfied: certifi>=2017.4.17 in c:\\users\\user\\anaconda3\\envs\\keras-gpu\\lib\\site-packages (from requests<3,>=2.21.0->tensorboard<2.10,>=2.9->tensorflow-gpu==2.9) (2022.9.24)\n",
      "Requirement already satisfied: urllib3!=1.25.0,!=1.25.1,<1.26,>=1.21.1 in c:\\users\\user\\anaconda3\\envs\\keras-gpu\\lib\\site-packages (from requests<3,>=2.21.0->tensorboard<2.10,>=2.9->tensorflow-gpu==2.9) (1.25.9)\n",
      "Requirement already satisfied: MarkupSafe>=2.1.1 in c:\\users\\user\\anaconda3\\envs\\keras-gpu\\lib\\site-packages (from werkzeug>=1.0.1->tensorboard<2.10,>=2.9->tensorflow-gpu==2.9) (2.1.1)\n",
      "Requirement already satisfied: requests-oauthlib>=0.7.0 in c:\\users\\user\\anaconda3\\envs\\keras-gpu\\lib\\site-packages (from google-auth-oauthlib<0.5,>=0.4.1->tensorboard<2.10,>=2.9->tensorflow-gpu==2.9) (1.3.0)\n",
      "Requirement already satisfied: pyasn1>=0.1.3 in c:\\users\\user\\anaconda3\\envs\\keras-gpu\\lib\\site-packages (from rsa<4.1,>=3.1.4->google-auth<3,>=1.6.3->tensorboard<2.10,>=2.9->tensorflow-gpu==2.9) (0.4.8)\n",
      "Requirement already satisfied: oauthlib>=3.0.0 in c:\\users\\user\\anaconda3\\envs\\keras-gpu\\lib\\site-packages (from requests-oauthlib>=0.7.0->google-auth-oauthlib<0.5,>=0.4.1->tensorboard<2.10,>=2.9->tensorflow-gpu==2.9) (3.1.0)\n"
     ]
    }
   ],
   "source": [
    "# !pip install tensorflow-gpu==2.9"
   ]
  },
  {
   "cell_type": "code",
   "execution_count": 27,
   "metadata": {},
   "outputs": [
    {
     "name": "stdout",
     "output_type": "stream",
     "text": [
      "Requirement already satisfied: opencv-python==4.5.1.48 in c:\\users\\user\\anaconda3\\envs\\keras-gpu\\lib\\site-packages (4.5.1.48)\n",
      "Requirement already satisfied: numpy>=1.14.5 in c:\\users\\user\\anaconda3\\envs\\keras-gpu\\lib\\site-packages (from opencv-python==4.5.1.48) (1.21.6)\n",
      "Requirement already satisfied: pandas==1.2.1 in c:\\users\\user\\anaconda3\\envs\\keras-gpu\\lib\\site-packages (1.2.1)\n",
      "Requirement already satisfied: numpy>=1.16.5 in c:\\users\\user\\anaconda3\\envs\\keras-gpu\\lib\\site-packages (from pandas==1.2.1) (1.21.6)\n",
      "Requirement already satisfied: pytz>=2017.3 in c:\\users\\user\\anaconda3\\envs\\keras-gpu\\lib\\site-packages (from pandas==1.2.1) (2022.4)\n",
      "Requirement already satisfied: python-dateutil>=2.7.3 in c:\\users\\user\\anaconda3\\envs\\keras-gpu\\lib\\site-packages (from pandas==1.2.1) (2.8.2)\n",
      "Requirement already satisfied: six>=1.5 in c:\\users\\user\\anaconda3\\envs\\keras-gpu\\lib\\site-packages (from python-dateutil>=2.7.3->pandas==1.2.1) (1.15.0)\n",
      "Requirement already satisfied: Pillow==8.1.0 in c:\\users\\user\\anaconda3\\envs\\keras-gpu\\lib\\site-packages (8.1.0)\n",
      "Requirement already satisfied: pydicom==2.1.2 in c:\\users\\user\\anaconda3\\envs\\keras-gpu\\lib\\site-packages (2.1.2)\n",
      "Requirement already satisfied: scikit-learn==0.24.1 in c:\\users\\user\\anaconda3\\envs\\keras-gpu\\lib\\site-packages (0.24.1)\n",
      "Requirement already satisfied: threadpoolctl>=2.0.0 in c:\\users\\user\\anaconda3\\envs\\keras-gpu\\lib\\site-packages (from scikit-learn==0.24.1) (3.1.0)\n",
      "Requirement already satisfied: joblib>=0.11 in c:\\users\\user\\anaconda3\\envs\\keras-gpu\\lib\\site-packages (from scikit-learn==0.24.1) (1.2.0)\n",
      "Requirement already satisfied: scipy>=0.19.1 in c:\\users\\user\\anaconda3\\envs\\keras-gpu\\lib\\site-packages (from scikit-learn==0.24.1) (1.6.0)\n",
      "Requirement already satisfied: numpy>=1.13.3 in c:\\users\\user\\anaconda3\\envs\\keras-gpu\\lib\\site-packages (from scikit-learn==0.24.1) (1.21.6)\n",
      "Requirement already satisfied: scipy==1.6.0 in c:\\users\\user\\anaconda3\\envs\\keras-gpu\\lib\\site-packages (1.6.0)\n",
      "Requirement already satisfied: numpy>=1.16.5 in c:\\users\\user\\anaconda3\\envs\\keras-gpu\\lib\\site-packages (from scipy==1.6.0) (1.21.6)\n",
      "Requirement already satisfied: tqdm==4.56.0 in c:\\users\\user\\anaconda3\\envs\\keras-gpu\\lib\\site-packages (4.56.0)\n",
      "Requirement already satisfied: tikzplotlib in c:\\users\\user\\anaconda3\\envs\\keras-gpu\\lib\\site-packages (0.10.1)\n",
      "Requirement already satisfied: webcolors in c:\\users\\user\\anaconda3\\envs\\keras-gpu\\lib\\site-packages (from tikzplotlib) (1.12)\n",
      "Requirement already satisfied: matplotlib>=1.4.0 in c:\\users\\user\\appdata\\roaming\\python\\python37\\site-packages (from tikzplotlib) (3.4.2)\n",
      "Requirement already satisfied: Pillow in c:\\users\\user\\anaconda3\\envs\\keras-gpu\\lib\\site-packages (from tikzplotlib) (8.1.0)\n",
      "Requirement already satisfied: numpy in c:\\users\\user\\anaconda3\\envs\\keras-gpu\\lib\\site-packages (from tikzplotlib) (1.21.6)\n",
      "Requirement already satisfied: python-dateutil>=2.7 in c:\\users\\user\\anaconda3\\envs\\keras-gpu\\lib\\site-packages (from matplotlib>=1.4.0->tikzplotlib) (2.8.2)\n",
      "Requirement already satisfied: kiwisolver>=1.0.1 in c:\\users\\user\\appdata\\roaming\\python\\python37\\site-packages (from matplotlib>=1.4.0->tikzplotlib) (1.3.1)\n",
      "Requirement already satisfied: pyparsing>=2.2.1 in c:\\users\\user\\anaconda3\\envs\\keras-gpu\\lib\\site-packages (from matplotlib>=1.4.0->tikzplotlib) (3.0.9)\n",
      "Requirement already satisfied: cycler>=0.10 in c:\\users\\user\\appdata\\roaming\\python\\python37\\site-packages (from matplotlib>=1.4.0->tikzplotlib) (0.10.0)\n",
      "Requirement already satisfied: six>=1.5 in c:\\users\\user\\anaconda3\\envs\\keras-gpu\\lib\\site-packages (from python-dateutil>=2.7->matplotlib>=1.4.0->tikzplotlib) (1.15.0)\n",
      "Requirement already satisfied: efficientnet in c:\\users\\user\\anaconda3\\envs\\keras-gpu\\lib\\site-packages (1.1.1)\n",
      "Requirement already satisfied: keras-applications<=1.0.8,>=1.0.7 in c:\\users\\user\\anaconda3\\envs\\keras-gpu\\lib\\site-packages (from efficientnet) (1.0.8)\n",
      "Requirement already satisfied: scikit-image in c:\\users\\user\\appdata\\roaming\\python\\python37\\site-packages (from efficientnet) (0.18.1)\n",
      "Requirement already satisfied: h5py in c:\\users\\user\\anaconda3\\envs\\keras-gpu\\lib\\site-packages (from keras-applications<=1.0.8,>=1.0.7->efficientnet) (2.10.0)\n",
      "Requirement already satisfied: numpy>=1.9.1 in c:\\users\\user\\anaconda3\\envs\\keras-gpu\\lib\\site-packages (from keras-applications<=1.0.8,>=1.0.7->efficientnet) (1.21.6)\n",
      "Requirement already satisfied: scipy>=1.0.1 in c:\\users\\user\\anaconda3\\envs\\keras-gpu\\lib\\site-packages (from scikit-image->efficientnet) (1.6.0)\n",
      "Requirement already satisfied: pillow!=7.1.0,!=7.1.1,>=4.3.0 in c:\\users\\user\\anaconda3\\envs\\keras-gpu\\lib\\site-packages (from scikit-image->efficientnet) (8.1.0)\n",
      "Requirement already satisfied: tifffile>=2019.7.26 in c:\\users\\user\\appdata\\roaming\\python\\python37\\site-packages (from scikit-image->efficientnet) (2021.4.8)\n",
      "Requirement already satisfied: imageio>=2.3.0 in c:\\users\\user\\appdata\\roaming\\python\\python37\\site-packages (from scikit-image->efficientnet) (2.9.0)\n",
      "Requirement already satisfied: PyWavelets>=1.1.1 in c:\\users\\user\\appdata\\roaming\\python\\python37\\site-packages (from scikit-image->efficientnet) (1.1.1)\n",
      "Requirement already satisfied: matplotlib!=3.0.0,>=2.0.0 in c:\\users\\user\\appdata\\roaming\\python\\python37\\site-packages (from scikit-image->efficientnet) (3.4.2)\n",
      "Requirement already satisfied: networkx>=2.0 in c:\\users\\user\\appdata\\roaming\\python\\python37\\site-packages (from scikit-image->efficientnet) (2.5.1)\n",
      "Requirement already satisfied: six in c:\\users\\user\\anaconda3\\envs\\keras-gpu\\lib\\site-packages (from h5py->keras-applications<=1.0.8,>=1.0.7->efficientnet) (1.15.0)\n",
      "Requirement already satisfied: cycler>=0.10 in c:\\users\\user\\appdata\\roaming\\python\\python37\\site-packages (from matplotlib!=3.0.0,>=2.0.0->scikit-image->efficientnet) (0.10.0)\n",
      "Requirement already satisfied: pyparsing>=2.2.1 in c:\\users\\user\\anaconda3\\envs\\keras-gpu\\lib\\site-packages (from matplotlib!=3.0.0,>=2.0.0->scikit-image->efficientnet) (3.0.9)\n",
      "Requirement already satisfied: python-dateutil>=2.7 in c:\\users\\user\\anaconda3\\envs\\keras-gpu\\lib\\site-packages (from matplotlib!=3.0.0,>=2.0.0->scikit-image->efficientnet) (2.8.2)\n",
      "Requirement already satisfied: kiwisolver>=1.0.1 in c:\\users\\user\\appdata\\roaming\\python\\python37\\site-packages (from matplotlib!=3.0.0,>=2.0.0->scikit-image->efficientnet) (1.3.1)\n",
      "Requirement already satisfied: decorator<5,>=4.3 in c:\\users\\user\\anaconda3\\envs\\keras-gpu\\lib\\site-packages (from networkx>=2.0->scikit-image->efficientnet) (4.4.2)\n",
      "Requirement already satisfied: seaborn in c:\\users\\user\\anaconda3\\envs\\keras-gpu\\lib\\site-packages (0.12.0)\n",
      "Requirement already satisfied: matplotlib>=3.1 in c:\\users\\user\\appdata\\roaming\\python\\python37\\site-packages (from seaborn) (3.4.2)\n",
      "Requirement already satisfied: numpy>=1.17 in c:\\users\\user\\anaconda3\\envs\\keras-gpu\\lib\\site-packages (from seaborn) (1.21.6)\n",
      "Requirement already satisfied: pandas>=0.25 in c:\\users\\user\\anaconda3\\envs\\keras-gpu\\lib\\site-packages (from seaborn) (1.2.1)\n",
      "Requirement already satisfied: typing_extensions; python_version < \"3.8\" in c:\\users\\user\\anaconda3\\envs\\keras-gpu\\lib\\site-packages (from seaborn) (4.3.0)\n",
      "Requirement already satisfied: pillow>=6.2.0 in c:\\users\\user\\anaconda3\\envs\\keras-gpu\\lib\\site-packages (from matplotlib>=3.1->seaborn) (8.1.0)\n",
      "Requirement already satisfied: pyparsing>=2.2.1 in c:\\users\\user\\anaconda3\\envs\\keras-gpu\\lib\\site-packages (from matplotlib>=3.1->seaborn) (3.0.9)\n",
      "Requirement already satisfied: python-dateutil>=2.7 in c:\\users\\user\\anaconda3\\envs\\keras-gpu\\lib\\site-packages (from matplotlib>=3.1->seaborn) (2.8.2)\n",
      "Requirement already satisfied: cycler>=0.10 in c:\\users\\user\\appdata\\roaming\\python\\python37\\site-packages (from matplotlib>=3.1->seaborn) (0.10.0)\n",
      "Requirement already satisfied: kiwisolver>=1.0.1 in c:\\users\\user\\appdata\\roaming\\python\\python37\\site-packages (from matplotlib>=3.1->seaborn) (1.3.1)\n",
      "Requirement already satisfied: pytz>=2017.3 in c:\\users\\user\\anaconda3\\envs\\keras-gpu\\lib\\site-packages (from pandas>=0.25->seaborn) (2022.4)\n",
      "Requirement already satisfied: six>=1.5 in c:\\users\\user\\anaconda3\\envs\\keras-gpu\\lib\\site-packages (from python-dateutil>=2.7->matplotlib>=3.1->seaborn) (1.15.0)\n"
     ]
    }
   ],
   "source": [
    "# !pip install opencv-python==4.5.1.48\n",
    "# !pip install pandas==1.2.1\n",
    "# !pip install Pillow==8.1.0\n",
    "# !pip install pydicom==2.1.2\n",
    "# !pip install scikit-learn==0.24.1\n",
    "# !pip install scipy==1.6.0\n",
    "# !pip install tqdm==4.56.0\n",
    "# !pip install tikzplotlib\n",
    "# !pip install efficientnet\n",
    "# !pip install seaborn "
   ]
  },
  {
   "cell_type": "code",
   "execution_count": 28,
   "metadata": {},
   "outputs": [],
   "source": [
    "import os\n",
    "import cv2\n",
    "import pydicom\n",
    "import tikzplotlib\n",
    "import numpy as np\n",
    "import pandas as pd\n",
    "import seaborn as sns\n",
    "import tensorflow as tf\n",
    "import matplotlib.pyplot as plt\n",
    "import efficientnet.tfkeras as efn"
   ]
  },
  {
   "cell_type": "code",
   "execution_count": 29,
   "metadata": {},
   "outputs": [],
   "source": [
    "import tensorflow.keras.layers as L\n",
    "import tensorflow.keras.models as M\n",
    "import tensorflow.keras.backend as K\n",
    "from tqdm.notebook import tqdm\n",
    "from tensorflow.keras import Model\n",
    "from tensorflow.keras.utils import Sequence\n",
    "from sklearn.model_selection import train_test_split \n",
    "from sklearn.model_selection import GroupKFold, KFold, StratifiedKFold\n",
    "from tensorflow.keras.layers import (\n",
    "    Dense, Dropout, Activation, Flatten, Input, BatchNormalization, GlobalAveragePooling2D, GaussianNoise, \n",
    "    Add, Conv2D, AveragePooling2D, LeakyReLU, Concatenate \n",
    ")"
   ]
  },
  {
   "cell_type": "markdown",
   "metadata": {},
   "source": [
    "# Load and Transform Data"
   ]
  },
  {
   "cell_type": "code",
   "execution_count": 30,
   "metadata": {},
   "outputs": [],
   "source": [
    "train = pd.read_csv('./Dataset/train.csv')"
   ]
  },
  {
   "cell_type": "code",
   "execution_count": 31,
   "metadata": {},
   "outputs": [
    {
     "data": {
      "text/html": [
       "<div>\n",
       "<style scoped>\n",
       "    .dataframe tbody tr th:only-of-type {\n",
       "        vertical-align: middle;\n",
       "    }\n",
       "\n",
       "    .dataframe tbody tr th {\n",
       "        vertical-align: top;\n",
       "    }\n",
       "\n",
       "    .dataframe thead th {\n",
       "        text-align: right;\n",
       "    }\n",
       "</style>\n",
       "<table border=\"1\" class=\"dataframe\">\n",
       "  <thead>\n",
       "    <tr style=\"text-align: right;\">\n",
       "      <th></th>\n",
       "      <th>Patient</th>\n",
       "      <th>Weeks</th>\n",
       "      <th>FVC</th>\n",
       "      <th>Percent</th>\n",
       "      <th>Age</th>\n",
       "      <th>Sex</th>\n",
       "      <th>SmokingStatus</th>\n",
       "    </tr>\n",
       "  </thead>\n",
       "  <tbody>\n",
       "    <tr>\n",
       "      <th>0</th>\n",
       "      <td>ID00007637202177411956430</td>\n",
       "      <td>-4</td>\n",
       "      <td>2315</td>\n",
       "      <td>58.253649</td>\n",
       "      <td>79</td>\n",
       "      <td>Male</td>\n",
       "      <td>Ex-smoker</td>\n",
       "    </tr>\n",
       "    <tr>\n",
       "      <th>1</th>\n",
       "      <td>ID00007637202177411956430</td>\n",
       "      <td>5</td>\n",
       "      <td>2214</td>\n",
       "      <td>55.712129</td>\n",
       "      <td>79</td>\n",
       "      <td>Male</td>\n",
       "      <td>Ex-smoker</td>\n",
       "    </tr>\n",
       "    <tr>\n",
       "      <th>2</th>\n",
       "      <td>ID00007637202177411956430</td>\n",
       "      <td>7</td>\n",
       "      <td>2061</td>\n",
       "      <td>51.862104</td>\n",
       "      <td>79</td>\n",
       "      <td>Male</td>\n",
       "      <td>Ex-smoker</td>\n",
       "    </tr>\n",
       "    <tr>\n",
       "      <th>3</th>\n",
       "      <td>ID00007637202177411956430</td>\n",
       "      <td>9</td>\n",
       "      <td>2144</td>\n",
       "      <td>53.950679</td>\n",
       "      <td>79</td>\n",
       "      <td>Male</td>\n",
       "      <td>Ex-smoker</td>\n",
       "    </tr>\n",
       "    <tr>\n",
       "      <th>4</th>\n",
       "      <td>ID00007637202177411956430</td>\n",
       "      <td>11</td>\n",
       "      <td>2069</td>\n",
       "      <td>52.063412</td>\n",
       "      <td>79</td>\n",
       "      <td>Male</td>\n",
       "      <td>Ex-smoker</td>\n",
       "    </tr>\n",
       "  </tbody>\n",
       "</table>\n",
       "</div>"
      ],
      "text/plain": [
       "                     Patient  Weeks   FVC    Percent  Age   Sex SmokingStatus\n",
       "0  ID00007637202177411956430     -4  2315  58.253649   79  Male     Ex-smoker\n",
       "1  ID00007637202177411956430      5  2214  55.712129   79  Male     Ex-smoker\n",
       "2  ID00007637202177411956430      7  2061  51.862104   79  Male     Ex-smoker\n",
       "3  ID00007637202177411956430      9  2144  53.950679   79  Male     Ex-smoker\n",
       "4  ID00007637202177411956430     11  2069  52.063412   79  Male     Ex-smoker"
      ]
     },
     "execution_count": 31,
     "metadata": {},
     "output_type": "execute_result"
    }
   ],
   "source": [
    "train.head()"
   ]
  },
  {
   "cell_type": "code",
   "execution_count": 32,
   "metadata": {},
   "outputs": [
    {
     "data": {
      "text/plain": [
       "153.145377828922"
      ]
     },
     "execution_count": 32,
     "metadata": {},
     "output_type": "execute_result"
    }
   ],
   "source": [
    "train['Percent'].max()"
   ]
  },
  {
   "cell_type": "code",
   "execution_count": 33,
   "metadata": {},
   "outputs": [
    {
     "data": {
      "text/plain": [
       "28.8775766716943"
      ]
     },
     "execution_count": 33,
     "metadata": {},
     "output_type": "execute_result"
    }
   ],
   "source": [
    "train['Percent'].min()"
   ]
  },
  {
   "cell_type": "code",
   "execution_count": 34,
   "metadata": {},
   "outputs": [
    {
     "data": {
      "text/plain": [
       "array(['Ex-smoker', 'Never smoked', 'Currently smokes'], dtype=object)"
      ]
     },
     "execution_count": 34,
     "metadata": {},
     "output_type": "execute_result"
    }
   ],
   "source": [
    "train.SmokingStatus.unique()"
   ]
  },
  {
   "cell_type": "code",
   "execution_count": 35,
   "metadata": {},
   "outputs": [],
   "source": [
    "def get_tab(df):\n",
    "    \" return an array which contains each patient normalized age, sex and smoking status\"\n",
    "    vector = [(df.Age.values[0] - 30) / 30] \n",
    "    \n",
    "    if df.Sex.values[0].lower() == 'male':\n",
    "       vector.append(0)\n",
    "    else:\n",
    "       vector.append(1)\n",
    "    \n",
    "    if df.SmokingStatus.values[0] == 'Never smoked':\n",
    "        vector.extend([0,0])\n",
    "    elif df.SmokingStatus.values[0] == 'Ex-smoker':\n",
    "        vector.extend([1,1])\n",
    "    elif df.SmokingStatus.values[0] == 'Currently smokes':\n",
    "        vector.extend([0,1])\n",
    "    else:\n",
    "        vector.extend([1,0])\n",
    "    return np.array(vector)"
   ]
  },
  {
   "cell_type": "code",
   "execution_count": 36,
   "metadata": {},
   "outputs": [
    {
     "data": {
      "application/vnd.jupyter.widget-view+json": {
       "model_id": "63755f9aa96c48f9ae888e8113e06032",
       "version_major": 2,
       "version_minor": 0
      },
      "text/plain": [
       "0it [00:00, ?it/s]"
      ]
     },
     "metadata": {},
     "output_type": "display_data"
    },
    {
     "name": "stderr",
     "output_type": "stream",
     "text": [
      "C:\\Users\\user\\Anaconda3\\envs\\keras-gpu\\lib\\site-packages\\ipykernel_launcher.py:9: FutureWarning: `rcond` parameter will change to the default of machine precision times ``max(M, N)`` where M and N are the input matrix dimensions.\n",
      "To use the future default and silence this warning we advise to pass `rcond=None`, to keep using the old, explicitly pass `rcond=-1`.\n",
      "  if __name__ == \"__main__\":\n"
     ]
    }
   ],
   "source": [
    "A = {} \n",
    "TAB = {} \n",
    "P = [] \n",
    "for i, p in tqdm(enumerate(train.Patient.unique())): # i index, p patient id\n",
    "    sub = train.loc[train.Patient == p, :] # find all data (weeks, FVC, Percent, Age, Sex, SmokingStatus) of a unique patient\n",
    "    fvc = sub.FVC.values # fvc values of the patient during the follow-up\n",
    "    weeks = sub.Weeks.values # follow-up weeks\n",
    "    c = np.vstack([weeks, np.ones(len(weeks))]).T # create an array by the follow-up weeks of shape(len(weeks),2)\n",
    "    a, b = np.linalg.lstsq(c, fvc)[0] # least-square sol, a=gradient matrix, b=right hand matrix \n",
    "    \n",
    "    A[p] = a\n",
    "    TAB[p] = get_tab(sub)\n",
    "    P.append(p)"
   ]
  },
  {
   "cell_type": "code",
   "execution_count": 37,
   "metadata": {},
   "outputs": [],
   "source": [
    "def get_img(path):\n",
    "    \" read DICOM dataset and return resize images of size (512,512,3)\"\n",
    "    d = pydicom.dcmread(path) # read and parse the CT scan images (in DICOM format)\n",
    "    resized_image = cv2.resize((d.pixel_array - d.RescaleIntercept) / (d.RescaleSlope * 1000), (512,512))\n",
    "    resized_image = np.stack((resized_image,)*3, axis = -1)\n",
    "    return resized_image"
   ]
  },
  {
   "cell_type": "code",
   "execution_count": 38,
   "metadata": {},
   "outputs": [],
   "source": [
    "\n",
    "\n",
    "class IGenerator(Sequence):\n",
    "    BAD_ID = ['ID00011637202177653955184', 'ID00052637202186188008618']\n",
    "    def __init__(self, keys, a, tab, batch_size):\n",
    "        \"key=patient, a=gradient matrix, tab=a particular patient's data\"\n",
    "        self.keys = [k for k in keys if k not in self.BAD_ID]\n",
    "        self.a = a\n",
    "        self.tab = tab\n",
    "        self.batch_size = batch_size\n",
    "        \n",
    "        self.train_data = {}\n",
    "        for p in train.Patient.values:\n",
    "            self.train_data[p] = os.listdir(f'./Dataset//train/{p}/')\n",
    "    \n",
    "    def __len__(self):\n",
    "        return 1000\n",
    "    \n",
    "    def __getitem__(self, idx):\n",
    "        x = []\n",
    "        a, tab = [], [] \n",
    "        keys = np.random.choice(self.keys, size = self.batch_size) # randomly chooses n=batch_size number of patients\n",
    "        for k in keys:\n",
    "            try:\n",
    "                i = np.random.choice(self.train_data[k], size=1)[0] # chooses some randomly images for kth patient\n",
    "                img = get_img(f'./Dataset//train/{k}/{i}') # resizes ith image of kth patient\n",
    "                x.append(img) # append kth patient's image data in the list x\n",
    "                a.append(self.a[k]) # append kth patient's gradinet in the list a\n",
    "                tab.append(self.tab[k]) # append kth patient's tabular data in the tab list\n",
    "            except:\n",
    "                print(k, i)\n",
    "       \n",
    "        x,a,tab = np.array(x), np.array(a), np.array(tab) # convert list to array\n",
    "        #x = np.expand_dims(x, axis=-1) \n",
    "        return [x, tab] , a"
   ]
  },
  {
   "cell_type": "markdown",
   "metadata": {},
   "source": [
    "## Build the Model"
   ]
  },
  {
   "cell_type": "code",
   "execution_count": 39,
   "metadata": {},
   "outputs": [],
   "source": [
    "def get_model(model, shape):\n",
    "    models_dict = {\n",
    "        'b0': efn.EfficientNetB0(input_shape=shape,weights='imagenet',include_top=False),\n",
    "        'b1': efn.EfficientNetB1(input_shape=shape,weights=None,include_top=False),\n",
    "        'b2': efn.EfficientNetB2(input_shape=shape,weights=None,include_top=False),\n",
    "        'b3': efn.EfficientNetB3(input_shape=shape,weights=None,include_top=False),\n",
    "        'b4': efn.EfficientNetB4(input_shape=shape,weights=None,include_top=False),\n",
    "        'b5': efn.EfficientNetB5(input_shape=shape,weights=None,include_top=False),\n",
    "        'b6': efn.EfficientNetB6(input_shape=shape,weights=None,include_top=False),\n",
    "        'b7': efn.EfficientNetB7(input_shape=shape,weights=None,include_top=False),\n",
    "        #'RNet50': resnet50.ResNet50(input_shape=shape,weights=None,include_top=False),\n",
    "        #'V16': vgg16.VGG16(input_shape=shape,weights=None,include_top=False)\n",
    "    }\n",
    "    return models_dict[model]\n",
    "\n",
    "def build_model(shape=(512, 512, 3), model_class=None):\n",
    "    inp = Input(shape=shape)\n",
    "    base = get_model(model_class, shape)\n",
    "    x = base(inp)\n",
    "    x = GlobalAveragePooling2D()(x)\n",
    "    inp2 = Input(shape=(4,)) # indicates that the expected input will be batches of 4-dimensional vectors\n",
    "    x2 = GaussianNoise(0.2)(inp2) # to mitigate overfitting\n",
    "    x = Concatenate()([x, x2]) \n",
    "    x = Dropout(0.5)(x) \n",
    "    x = Dense(1)(x)\n",
    "    model = Model([inp, inp2] , x)\n",
    "    return model"
   ]
  },
  {
   "cell_type": "code",
   "execution_count": 40,
   "metadata": {
    "scrolled": true
   },
   "outputs": [
    {
     "name": "stdout",
     "output_type": "stream",
     "text": [
      "Model: \"model_10\"\n",
      "__________________________________________________________________________________________________\n",
      " Layer (type)                   Output Shape         Param #     Connected to                     \n",
      "==================================================================================================\n",
      " input_101 (InputLayer)         [(None, 512, 512, 3  0           []                               \n",
      "                                )]                                                                \n",
      "                                                                                                  \n",
      " efficientnet-b1 (Functional)   (None, 16, 16, 1280  6575232     ['input_101[0][0]']              \n",
      "                                )                                                                 \n",
      "                                                                                                  \n",
      " input_110 (InputLayer)         [(None, 4)]          0           []                               \n",
      "                                                                                                  \n",
      " global_average_pooling2d_10 (G  (None, 1280)        0           ['efficientnet-b1[0][0]']        \n",
      " lobalAveragePooling2D)                                                                           \n",
      "                                                                                                  \n",
      " gaussian_noise_10 (GaussianNoi  (None, 4)           0           ['input_110[0][0]']              \n",
      " se)                                                                                              \n",
      "                                                                                                  \n",
      " concatenate_10 (Concatenate)   (None, 1284)         0           ['global_average_pooling2d_10[0][\n",
      "                                                                 0]',                             \n",
      "                                                                  'gaussian_noise_10[0][0]']      \n",
      "                                                                                                  \n",
      " dropout_10 (Dropout)           (None, 1284)         0           ['concatenate_10[0][0]']         \n",
      "                                                                                                  \n",
      " dense_10 (Dense)               (None, 1)            1285        ['dropout_10[0][0]']             \n",
      "                                                                                                  \n",
      "==================================================================================================\n",
      "Total params: 6,576,517\n",
      "Trainable params: 6,514,469\n",
      "Non-trainable params: 62,048\n",
      "__________________________________________________________________________________________________\n"
     ]
    }
   ],
   "source": [
    "MODEL_CLASS = 'b1'\n",
    "base_model = build_model(shape=(512, 512, 3), model_class=MODEL_CLASS)\n",
    "base_model.summary()"
   ]
  },
  {
   "cell_type": "markdown",
   "metadata": {},
   "source": [
    "## Compile and Train the Model"
   ]
  },
  {
   "cell_type": "code",
   "execution_count": 41,
   "metadata": {},
   "outputs": [],
   "source": [
    "BATCH_SIZE = 4\n",
    "EPOCHS = 100\n",
    "LR = 0.001\n",
    "SAVE_BEST = True\n",
    "tr_p, vl_p = train_test_split(P, shuffle=True, train_size= 0.8) "
   ]
  },
  {
   "cell_type": "code",
   "execution_count": 43,
   "metadata": {},
   "outputs": [
    {
     "name": "stdout",
     "output_type": "stream",
     "text": [
      "Epoch 1/150\n",
      "WARNING:tensorflow:AutoGraph could not transform <function Model.make_train_function.<locals>.train_function at 0x0000014F9D4C0318> and will run it as-is.\n",
      "Please report this to the TensorFlow team. When filing the bug, set the verbosity to 10 (on Linux, `export AUTOGRAPH_VERBOSITY=10`) and attach the full output.\n",
      "Cause: 'arguments' object has no attribute 'posonlyargs'\n",
      "To silence this warning, decorate the function with @tf.autograph.experimental.do_not_convert\n",
      "WARNING: AutoGraph could not transform <function Model.make_train_function.<locals>.train_function at 0x0000014F9D4C0318> and will run it as-is.\n",
      "Please report this to the TensorFlow team. When filing the bug, set the verbosity to 10 (on Linux, `export AUTOGRAPH_VERBOSITY=10`) and attach the full output.\n",
      "Cause: 'arguments' object has no attribute 'posonlyargs'\n",
      "To silence this warning, decorate the function with @tf.autograph.experimental.do_not_convert\n",
      "32/32 [==============================] - ETA: 0s - loss: 4.9229WARNING:tensorflow:AutoGraph could not transform <function Model.make_test_function.<locals>.test_function at 0x0000014F811F4F78> and will run it as-is.\n",
      "Please report this to the TensorFlow team. When filing the bug, set the verbosity to 10 (on Linux, `export AUTOGRAPH_VERBOSITY=10`) and attach the full output.\n",
      "Cause: 'arguments' object has no attribute 'posonlyargs'\n",
      "To silence this warning, decorate the function with @tf.autograph.experimental.do_not_convert\n",
      "WARNING: AutoGraph could not transform <function Model.make_test_function.<locals>.test_function at 0x0000014F811F4F78> and will run it as-is.\n",
      "Please report this to the TensorFlow team. When filing the bug, set the verbosity to 10 (on Linux, `export AUTOGRAPH_VERBOSITY=10`) and attach the full output.\n",
      "Cause: 'arguments' object has no attribute 'posonlyargs'\n",
      "To silence this warning, decorate the function with @tf.autograph.experimental.do_not_convert\n",
      "\n",
      "Epoch 1: val_loss improved from inf to 4.30482, saving model to b1_150_epochs.h5\n",
      "32/32 [==============================] - 117s 3s/step - loss: 4.9229 - val_loss: 4.3048 - lr: 0.0010\n",
      "Epoch 2/150\n",
      "32/32 [==============================] - ETA: 0s - loss: 5.1297\n",
      "Epoch 2: val_loss did not improve from 4.30482\n",
      "32/32 [==============================] - 101s 3s/step - loss: 5.1297 - val_loss: 9.3438 - lr: 0.0010\n",
      "Epoch 3/150\n",
      "32/32 [==============================] - ETA: 0s - loss: 4.2788\n",
      "Epoch 3: val_loss improved from 4.30482 to 4.24683, saving model to b1_150_epochs.h5\n",
      "32/32 [==============================] - 102s 3s/step - loss: 4.2788 - val_loss: 4.2468 - lr: 0.0010\n",
      "Epoch 4/150\n",
      "32/32 [==============================] - ETA: 0s - loss: 4.0126\n",
      "Epoch 4: val_loss improved from 4.24683 to 4.14559, saving model to b1_150_epochs.h5\n",
      "32/32 [==============================] - 102s 3s/step - loss: 4.0126 - val_loss: 4.1456 - lr: 0.0010\n",
      "Epoch 5/150\n",
      "32/32 [==============================] - ETA: 0s - loss: 4.3889\n",
      "Epoch 5: val_loss did not improve from 4.14559\n",
      "32/32 [==============================] - 101s 3s/step - loss: 4.3889 - val_loss: 4.3781 - lr: 0.0010\n",
      "Epoch 6/150\n",
      "32/32 [==============================] - ETA: 0s - loss: 4.8775\n",
      "Epoch 6: val_loss did not improve from 4.14559\n",
      "32/32 [==============================] - 101s 3s/step - loss: 4.8775 - val_loss: 11.5987 - lr: 0.0010\n",
      "Epoch 7/150\n",
      "32/32 [==============================] - ETA: 0s - loss: 4.7644\n",
      "Epoch 7: val_loss did not improve from 4.14559\n",
      "32/32 [==============================] - 102s 3s/step - loss: 4.7644 - val_loss: 24.7704 - lr: 0.0010\n",
      "Epoch 8/150\n",
      "32/32 [==============================] - ETA: 0s - loss: 3.9031\n",
      "Epoch 8: val_loss did not improve from 4.14559\n",
      "32/32 [==============================] - 102s 3s/step - loss: 3.9031 - val_loss: 5.5936 - lr: 0.0010\n",
      "Epoch 9/150\n",
      "32/32 [==============================] - ETA: 0s - loss: 4.3134\n",
      "Epoch 9: val_loss did not improve from 4.14559\n",
      "\n",
      "Epoch 9: ReduceLROnPlateau reducing learning rate to 0.0005000000237487257.\n",
      "32/32 [==============================] - 102s 3s/step - loss: 4.3134 - val_loss: 9.9667 - lr: 0.0010\n",
      "Epoch 10/150\n",
      "32/32 [==============================] - ETA: 0s - loss: 4.7825\n",
      "Epoch 10: val_loss did not improve from 4.14559\n",
      "32/32 [==============================] - 100s 3s/step - loss: 4.7825 - val_loss: 4.2753 - lr: 5.0000e-04\n",
      "Epoch 11/150\n",
      "32/32 [==============================] - ETA: 0s - loss: 4.3043\n",
      "Epoch 11: val_loss improved from 4.14559 to 4.06588, saving model to b1_150_epochs.h5\n",
      "32/32 [==============================] - 101s 3s/step - loss: 4.3043 - val_loss: 4.0659 - lr: 5.0000e-04\n",
      "Epoch 12/150\n",
      "32/32 [==============================] - ETA: 0s - loss: 4.5535\n",
      "Epoch 12: val_loss did not improve from 4.06588\n",
      "32/32 [==============================] - 100s 3s/step - loss: 4.5535 - val_loss: 4.5170 - lr: 5.0000e-04\n",
      "Epoch 13/150\n",
      "32/32 [==============================] - ETA: 0s - loss: 3.7629\n",
      "Epoch 13: val_loss improved from 4.06588 to 3.81294, saving model to b1_150_epochs.h5\n",
      "32/32 [==============================] - 101s 3s/step - loss: 3.7629 - val_loss: 3.8129 - lr: 5.0000e-04\n",
      "Epoch 14/150\n",
      "32/32 [==============================] - ETA: 0s - loss: 4.2096\n",
      "Epoch 14: val_loss did not improve from 3.81294\n",
      "32/32 [==============================] - 100s 3s/step - loss: 4.2096 - val_loss: 4.4175 - lr: 5.0000e-04\n",
      "Epoch 15/150\n",
      "32/32 [==============================] - ETA: 0s - loss: 4.8334\n",
      "Epoch 15: val_loss did not improve from 3.81294\n",
      "32/32 [==============================] - 100s 3s/step - loss: 4.8334 - val_loss: 4.3673 - lr: 5.0000e-04\n",
      "Epoch 16/150\n",
      "32/32 [==============================] - ETA: 0s - loss: 4.0394\n",
      "Epoch 16: val_loss did not improve from 3.81294\n",
      "32/32 [==============================] - 100s 3s/step - loss: 4.0394 - val_loss: 4.5665 - lr: 5.0000e-04\n",
      "Epoch 17/150\n",
      "32/32 [==============================] - ETA: 0s - loss: 4.4356\n",
      "Epoch 17: val_loss did not improve from 3.81294\n",
      "32/32 [==============================] - 101s 3s/step - loss: 4.4356 - val_loss: 4.5136 - lr: 5.0000e-04\n",
      "Epoch 18/150\n",
      "32/32 [==============================] - ETA: 0s - loss: 4.2370\n",
      "Epoch 18: val_loss did not improve from 3.81294\n",
      "\n",
      "Epoch 18: ReduceLROnPlateau reducing learning rate to 0.0002500000118743628.\n",
      "32/32 [==============================] - 101s 3s/step - loss: 4.2370 - val_loss: 4.6745 - lr: 5.0000e-04\n",
      "Epoch 19/150\n",
      "32/32 [==============================] - ETA: 0s - loss: 4.5663\n",
      "Epoch 19: val_loss did not improve from 3.81294\n",
      "32/32 [==============================] - 101s 3s/step - loss: 4.5663 - val_loss: 4.3810 - lr: 2.5000e-04\n",
      "Epoch 20/150\n",
      "32/32 [==============================] - ETA: 0s - loss: 4.4228\n",
      "Epoch 20: val_loss improved from 3.81294 to 3.73320, saving model to b1_150_epochs.h5\n",
      "32/32 [==============================] - 101s 3s/step - loss: 4.4228 - val_loss: 3.7332 - lr: 2.5000e-04\n",
      "Epoch 21/150\n",
      "32/32 [==============================] - ETA: 0s - loss: 3.3694\n",
      "Epoch 21: val_loss did not improve from 3.73320\n",
      "32/32 [==============================] - 102s 3s/step - loss: 3.3694 - val_loss: 4.0906 - lr: 2.5000e-04\n",
      "Epoch 22/150\n",
      "32/32 [==============================] - ETA: 0s - loss: 4.6103\n",
      "Epoch 22: val_loss did not improve from 3.73320\n",
      "32/32 [==============================] - 102s 3s/step - loss: 4.6103 - val_loss: 4.3044 - lr: 2.5000e-04\n",
      "Epoch 23/150\n",
      "32/32 [==============================] - ETA: 0s - loss: 4.2394\n",
      "Epoch 23: val_loss did not improve from 3.73320\n",
      "32/32 [==============================] - 103s 3s/step - loss: 4.2394 - val_loss: 4.7650 - lr: 2.5000e-04\n",
      "Epoch 24/150\n",
      "32/32 [==============================] - ETA: 0s - loss: 4.7590\n",
      "Epoch 24: val_loss did not improve from 3.73320\n",
      "32/32 [==============================] - 104s 3s/step - loss: 4.7590 - val_loss: 4.7668 - lr: 2.5000e-04\n",
      "Epoch 25/150\n",
      "32/32 [==============================] - ETA: 0s - loss: 4.0682\n",
      "Epoch 25: val_loss did not improve from 3.73320\n",
      "\n",
      "Epoch 25: ReduceLROnPlateau reducing learning rate to 0.0001250000059371814.\n",
      "32/32 [==============================] - 102s 3s/step - loss: 4.0682 - val_loss: 4.7658 - lr: 2.5000e-04\n",
      "Epoch 26/150\n",
      "32/32 [==============================] - ETA: 0s - loss: 4.8787\n",
      "Epoch 26: val_loss did not improve from 3.73320\n",
      "32/32 [==============================] - 103s 3s/step - loss: 4.8787 - val_loss: 4.0187 - lr: 1.2500e-04\n"
     ]
    },
    {
     "name": "stdout",
     "output_type": "stream",
     "text": [
      "Epoch 27/150\n",
      "32/32 [==============================] - ETA: 0s - loss: 4.2575\n",
      "Epoch 27: val_loss did not improve from 3.73320\n",
      "32/32 [==============================] - 103s 3s/step - loss: 4.2575 - val_loss: 4.7137 - lr: 1.2500e-04\n",
      "Epoch 28/150\n",
      "32/32 [==============================] - ETA: 0s - loss: 4.2395\n",
      "Epoch 28: val_loss did not improve from 3.73320\n",
      "32/32 [==============================] - 109s 3s/step - loss: 4.2395 - val_loss: 4.5860 - lr: 1.2500e-04\n",
      "Epoch 29/150\n",
      "32/32 [==============================] - ETA: 0s - loss: 4.0341\n",
      "Epoch 29: val_loss did not improve from 3.73320\n",
      "32/32 [==============================] - 140s 4s/step - loss: 4.0341 - val_loss: 4.2050 - lr: 1.2500e-04\n",
      "Epoch 30/150\n",
      "32/32 [==============================] - ETA: 0s - loss: 4.6239\n",
      "Epoch 30: val_loss did not improve from 3.73320\n",
      "\n",
      "Epoch 30: ReduceLROnPlateau reducing learning rate to 6.25000029685907e-05.\n",
      "32/32 [==============================] - 101s 3s/step - loss: 4.6239 - val_loss: 3.9206 - lr: 1.2500e-04\n",
      "Epoch 31/150\n",
      "32/32 [==============================] - ETA: 0s - loss: 4.0327\n",
      "Epoch 31: val_loss did not improve from 3.73320\n",
      "32/32 [==============================] - 101s 3s/step - loss: 4.0327 - val_loss: 3.9905 - lr: 6.2500e-05\n",
      "Epoch 32/150\n",
      "32/32 [==============================] - ETA: 0s - loss: 4.7575\n",
      "Epoch 32: val_loss did not improve from 3.73320\n",
      "32/32 [==============================] - 120s 4s/step - loss: 4.7575 - val_loss: 4.9668 - lr: 6.2500e-05\n",
      "Epoch 33/150\n",
      "32/32 [==============================] - ETA: 0s - loss: 4.3229\n",
      "Epoch 33: val_loss did not improve from 3.73320\n",
      "32/32 [==============================] - 100s 3s/step - loss: 4.3229 - val_loss: 3.9333 - lr: 6.2500e-05\n",
      "Epoch 34/150\n",
      "32/32 [==============================] - ETA: 0s - loss: 4.7923\n",
      "Epoch 34: val_loss did not improve from 3.73320\n",
      "32/32 [==============================] - 99s 3s/step - loss: 4.7923 - val_loss: 4.0401 - lr: 6.2500e-05\n",
      "Epoch 35/150\n",
      "32/32 [==============================] - ETA: 0s - loss: 5.2674\n",
      "Epoch 35: val_loss did not improve from 3.73320\n",
      "\n",
      "Epoch 35: ReduceLROnPlateau reducing learning rate to 3.125000148429535e-05.\n",
      "32/32 [==============================] - 100s 3s/step - loss: 5.2674 - val_loss: 4.7540 - lr: 6.2500e-05\n",
      "Epoch 36/150\n",
      "32/32 [==============================] - ETA: 0s - loss: 4.4822\n",
      "Epoch 36: val_loss did not improve from 3.73320\n",
      "32/32 [==============================] - 100s 3s/step - loss: 4.4822 - val_loss: 3.8429 - lr: 3.1250e-05\n",
      "Epoch 37/150\n",
      "32/32 [==============================] - ETA: 0s - loss: 3.9018\n",
      "Epoch 37: val_loss improved from 3.73320 to 3.65919, saving model to b1_150_epochs.h5\n",
      "32/32 [==============================] - 100s 3s/step - loss: 3.9018 - val_loss: 3.6592 - lr: 3.1250e-05\n",
      "Epoch 38/150\n",
      "32/32 [==============================] - ETA: 0s - loss: 4.1576\n",
      "Epoch 38: val_loss did not improve from 3.65919\n",
      "32/32 [==============================] - 100s 3s/step - loss: 4.1576 - val_loss: 4.3915 - lr: 3.1250e-05\n",
      "Epoch 39/150\n",
      "32/32 [==============================] - ETA: 0s - loss: 4.2816\n",
      "Epoch 39: val_loss did not improve from 3.65919\n",
      "32/32 [==============================] - 100s 3s/step - loss: 4.2816 - val_loss: 4.7845 - lr: 3.1250e-05\n",
      "Epoch 40/150\n",
      "32/32 [==============================] - ETA: 0s - loss: 4.1357\n",
      "Epoch 40: val_loss did not improve from 3.65919\n",
      "32/32 [==============================] - 100s 3s/step - loss: 4.1357 - val_loss: 4.0132 - lr: 3.1250e-05\n",
      "Epoch 41/150\n",
      "32/32 [==============================] - ETA: 0s - loss: 4.6740\n",
      "Epoch 41: val_loss did not improve from 3.65919\n",
      "32/32 [==============================] - 100s 3s/step - loss: 4.6740 - val_loss: 3.9217 - lr: 3.1250e-05\n",
      "Epoch 42/150\n",
      "32/32 [==============================] - ETA: 0s - loss: 4.4965\n",
      "Epoch 42: val_loss did not improve from 3.65919\n",
      "\n",
      "Epoch 42: ReduceLROnPlateau reducing learning rate to 1.5625000742147677e-05.\n",
      "32/32 [==============================] - 101s 3s/step - loss: 4.4965 - val_loss: 4.0729 - lr: 3.1250e-05\n",
      "Epoch 43/150\n",
      "32/32 [==============================] - ETA: 0s - loss: 4.9021\n",
      "Epoch 43: val_loss did not improve from 3.65919\n",
      "32/32 [==============================] - 100s 3s/step - loss: 4.9021 - val_loss: 4.2388 - lr: 1.5625e-05\n",
      "Epoch 44/150\n",
      "32/32 [==============================] - ETA: 0s - loss: 5.6610\n",
      "Epoch 44: val_loss did not improve from 3.65919\n",
      "32/32 [==============================] - 99s 3s/step - loss: 5.6610 - val_loss: 3.9805 - lr: 1.5625e-05\n",
      "Epoch 45/150\n",
      "32/32 [==============================] - ETA: 0s - loss: 4.0936\n",
      "Epoch 45: val_loss did not improve from 3.65919\n",
      "32/32 [==============================] - 100s 3s/step - loss: 4.0936 - val_loss: 3.8800 - lr: 1.5625e-05\n",
      "Epoch 46/150\n",
      "32/32 [==============================] - ETA: 0s - loss: 4.7687\n",
      "Epoch 46: val_loss did not improve from 3.65919\n",
      "32/32 [==============================] - 100s 3s/step - loss: 4.7687 - val_loss: 3.8687 - lr: 1.5625e-05\n",
      "Epoch 47/150\n",
      "32/32 [==============================] - ETA: 0s - loss: 4.0647\n",
      "Epoch 47: val_loss did not improve from 3.65919\n",
      "\n",
      "Epoch 47: ReduceLROnPlateau reducing learning rate to 7.812500371073838e-06.\n",
      "32/32 [==============================] - 100s 3s/step - loss: 4.0647 - val_loss: 4.2830 - lr: 1.5625e-05\n",
      "Epoch 48/150\n",
      "32/32 [==============================] - ETA: 0s - loss: 4.2326\n",
      "Epoch 48: val_loss did not improve from 3.65919\n",
      "32/32 [==============================] - 100s 3s/step - loss: 4.2326 - val_loss: 4.8242 - lr: 7.8125e-06\n",
      "Epoch 49/150\n",
      "32/32 [==============================] - ETA: 0s - loss: 3.8812\n",
      "Epoch 49: val_loss did not improve from 3.65919\n",
      "32/32 [==============================] - 99s 3s/step - loss: 3.8812 - val_loss: 4.7569 - lr: 7.8125e-06\n",
      "Epoch 50/150\n",
      "32/32 [==============================] - ETA: 0s - loss: 4.8973\n",
      "Epoch 50: val_loss did not improve from 3.65919\n",
      "32/32 [==============================] - 99s 3s/step - loss: 4.8973 - val_loss: 4.4247 - lr: 7.8125e-06\n",
      "Epoch 51/150\n",
      "32/32 [==============================] - ETA: 0s - loss: 4.2497\n",
      "Epoch 51: val_loss did not improve from 3.65919\n",
      "32/32 [==============================] - 99s 3s/step - loss: 4.2497 - val_loss: 4.2082 - lr: 7.8125e-06\n",
      "Epoch 52/150\n",
      "32/32 [==============================] - ETA: 0s - loss: 4.0856\n",
      "Epoch 52: val_loss did not improve from 3.65919\n",
      "\n",
      "Epoch 52: ReduceLROnPlateau reducing learning rate to 3.906250185536919e-06.\n",
      "32/32 [==============================] - 99s 3s/step - loss: 4.0856 - val_loss: 4.8082 - lr: 7.8125e-06\n",
      "Epoch 53/150\n",
      "32/32 [==============================] - ETA: 0s - loss: 4.2428\n",
      "Epoch 53: val_loss did not improve from 3.65919\n",
      "32/32 [==============================] - 99s 3s/step - loss: 4.2428 - val_loss: 4.0556 - lr: 3.9063e-06\n",
      "Epoch 54/150\n",
      "32/32 [==============================] - ETA: 0s - loss: 4.4470\n",
      "Epoch 54: val_loss did not improve from 3.65919\n",
      "32/32 [==============================] - 98s 3s/step - loss: 4.4470 - val_loss: 4.1296 - lr: 3.9063e-06\n",
      "Epoch 55/150\n",
      "32/32 [==============================] - ETA: 0s - loss: 4.8235\n",
      "Epoch 55: val_loss did not improve from 3.65919\n",
      "32/32 [==============================] - 99s 3s/step - loss: 4.8235 - val_loss: 4.3784 - lr: 3.9063e-06\n",
      "Epoch 56/150\n",
      "32/32 [==============================] - ETA: 0s - loss: 4.1965\n",
      "Epoch 56: val_loss did not improve from 3.65919\n",
      "32/32 [==============================] - 99s 3s/step - loss: 4.1965 - val_loss: 3.9745 - lr: 3.9063e-06\n",
      "Epoch 57/150\n",
      "32/32 [==============================] - ETA: 0s - loss: 4.4155\n",
      "Epoch 57: val_loss did not improve from 3.65919\n",
      "\n",
      "Epoch 57: ReduceLROnPlateau reducing learning rate to 1.9531250927684596e-06.\n",
      "32/32 [==============================] - 98s 3s/step - loss: 4.4155 - val_loss: 3.7698 - lr: 3.9063e-06\n",
      "Epoch 58/150\n",
      "32/32 [==============================] - ETA: 0s - loss: 5.4359\n",
      "Epoch 58: val_loss did not improve from 3.65919\n",
      "32/32 [==============================] - 98s 3s/step - loss: 5.4359 - val_loss: 4.9100 - lr: 1.9531e-06\n",
      "Epoch 59/150\n",
      "32/32 [==============================] - ETA: 0s - loss: 4.5516\n",
      "Epoch 59: val_loss did not improve from 3.65919\n",
      "32/32 [==============================] - 98s 3s/step - loss: 4.5516 - val_loss: 4.0006 - lr: 1.9531e-06\n",
      "Epoch 60/150\n",
      "32/32 [==============================] - ETA: 0s - loss: 3.9127\n",
      "Epoch 60: val_loss did not improve from 3.65919\n"
     ]
    },
    {
     "name": "stdout",
     "output_type": "stream",
     "text": [
      "32/32 [==============================] - 98s 3s/step - loss: 3.9127 - val_loss: 4.1942 - lr: 1.9531e-06\n",
      "Epoch 61/150\n",
      "32/32 [==============================] - ETA: 0s - loss: 3.8191\n",
      "Epoch 61: val_loss did not improve from 3.65919\n",
      "32/32 [==============================] - 98s 3s/step - loss: 3.8191 - val_loss: 5.4372 - lr: 1.9531e-06\n",
      "Epoch 62/150\n",
      "32/32 [==============================] - ETA: 0s - loss: 3.9776\n",
      "Epoch 62: val_loss did not improve from 3.65919\n",
      "\n",
      "Epoch 62: ReduceLROnPlateau reducing learning rate to 9.765625463842298e-07.\n",
      "32/32 [==============================] - 98s 3s/step - loss: 3.9776 - val_loss: 4.3971 - lr: 1.9531e-06\n",
      "Epoch 63/150\n",
      "32/32 [==============================] - ETA: 0s - loss: 3.6422\n",
      "Epoch 63: val_loss did not improve from 3.65919\n",
      "32/32 [==============================] - 98s 3s/step - loss: 3.6422 - val_loss: 4.4038 - lr: 9.7656e-07\n",
      "Epoch 64/150\n",
      "32/32 [==============================] - ETA: 0s - loss: 4.5134\n",
      "Epoch 64: val_loss did not improve from 3.65919\n",
      "32/32 [==============================] - 98s 3s/step - loss: 4.5134 - val_loss: 4.4756 - lr: 9.7656e-07\n",
      "Epoch 65/150\n",
      "32/32 [==============================] - ETA: 0s - loss: 4.1712\n",
      "Epoch 65: val_loss did not improve from 3.65919\n",
      "32/32 [==============================] - 98s 3s/step - loss: 4.1712 - val_loss: 5.0829 - lr: 9.7656e-07\n",
      "Epoch 66/150\n",
      "32/32 [==============================] - ETA: 0s - loss: 4.0839\n",
      "Epoch 66: val_loss did not improve from 3.65919\n",
      "32/32 [==============================] - 98s 3s/step - loss: 4.0839 - val_loss: 4.0093 - lr: 9.7656e-07\n",
      "Epoch 67/150\n",
      "32/32 [==============================] - ETA: 0s - loss: 4.5406\n",
      "Epoch 67: val_loss did not improve from 3.65919\n",
      "\n",
      "Epoch 67: ReduceLROnPlateau reducing learning rate to 4.882812731921149e-07.\n",
      "32/32 [==============================] - 98s 3s/step - loss: 4.5406 - val_loss: 3.9094 - lr: 9.7656e-07\n",
      "Epoch 68/150\n",
      "32/32 [==============================] - ETA: 0s - loss: 4.3870\n",
      "Epoch 68: val_loss did not improve from 3.65919\n",
      "32/32 [==============================] - 98s 3s/step - loss: 4.3870 - val_loss: 4.4061 - lr: 4.8828e-07\n",
      "Epoch 69/150\n",
      "32/32 [==============================] - ETA: 0s - loss: 4.5294\n",
      "Epoch 69: val_loss did not improve from 3.65919\n",
      "32/32 [==============================] - 99s 3s/step - loss: 4.5294 - val_loss: 4.3440 - lr: 4.8828e-07\n",
      "Epoch 70/150\n",
      "32/32 [==============================] - ETA: 0s - loss: 4.2708\n",
      "Epoch 70: val_loss did not improve from 3.65919\n",
      "32/32 [==============================] - 99s 3s/step - loss: 4.2708 - val_loss: 4.1517 - lr: 4.8828e-07\n",
      "Epoch 71/150\n",
      "32/32 [==============================] - ETA: 0s - loss: 3.8271\n",
      "Epoch 71: val_loss did not improve from 3.65919\n",
      "32/32 [==============================] - 98s 3s/step - loss: 3.8271 - val_loss: 4.1525 - lr: 4.8828e-07\n",
      "Epoch 72/150\n",
      "32/32 [==============================] - ETA: 0s - loss: 3.8572\n",
      "Epoch 72: val_loss did not improve from 3.65919\n",
      "\n",
      "Epoch 72: ReduceLROnPlateau reducing learning rate to 2.4414063659605745e-07.\n",
      "32/32 [==============================] - 98s 3s/step - loss: 3.8572 - val_loss: 4.6161 - lr: 4.8828e-07\n",
      "Epoch 73/150\n",
      "32/32 [==============================] - ETA: 0s - loss: 4.4656\n",
      "Epoch 73: val_loss did not improve from 3.65919\n",
      "32/32 [==============================] - 98s 3s/step - loss: 4.4656 - val_loss: 4.3212 - lr: 2.4414e-07\n",
      "Epoch 74/150\n",
      "32/32 [==============================] - ETA: 0s - loss: 4.5049\n",
      "Epoch 74: val_loss did not improve from 3.65919\n",
      "32/32 [==============================] - 99s 3s/step - loss: 4.5049 - val_loss: 4.0564 - lr: 2.4414e-07\n",
      "Epoch 75/150\n",
      "32/32 [==============================] - ETA: 0s - loss: 3.7286\n",
      "Epoch 75: val_loss did not improve from 3.65919\n",
      "32/32 [==============================] - 99s 3s/step - loss: 3.7286 - val_loss: 4.2663 - lr: 2.4414e-07\n",
      "Epoch 76/150\n",
      "32/32 [==============================] - ETA: 0s - loss: 4.3096\n",
      "Epoch 76: val_loss did not improve from 3.65919\n",
      "32/32 [==============================] - 99s 3s/step - loss: 4.3096 - val_loss: 4.4586 - lr: 2.4414e-07\n",
      "Epoch 77/150\n",
      "32/32 [==============================] - ETA: 0s - loss: 5.1931\n",
      "Epoch 77: val_loss did not improve from 3.65919\n",
      "\n",
      "Epoch 77: ReduceLROnPlateau reducing learning rate to 1.2207031829802872e-07.\n",
      "32/32 [==============================] - 99s 3s/step - loss: 5.1931 - val_loss: 3.8102 - lr: 2.4414e-07\n",
      "Epoch 78/150\n",
      "32/32 [==============================] - ETA: 0s - loss: 5.1083\n",
      "Epoch 78: val_loss did not improve from 3.65919\n",
      "32/32 [==============================] - 99s 3s/step - loss: 5.1083 - val_loss: 3.9167 - lr: 1.2207e-07\n",
      "Epoch 79/150\n",
      "32/32 [==============================] - ETA: 0s - loss: 4.6895\n",
      "Epoch 79: val_loss did not improve from 3.65919\n",
      "32/32 [==============================] - 99s 3s/step - loss: 4.6895 - val_loss: 4.0801 - lr: 1.2207e-07\n",
      "Epoch 80/150\n",
      "32/32 [==============================] - ETA: 0s - loss: 4.3773\n",
      "Epoch 80: val_loss did not improve from 3.65919\n",
      "32/32 [==============================] - 99s 3s/step - loss: 4.3773 - val_loss: 4.4620 - lr: 1.2207e-07\n",
      "Epoch 81/150\n",
      "32/32 [==============================] - ETA: 0s - loss: 4.8745\n",
      "Epoch 81: val_loss did not improve from 3.65919\n",
      "32/32 [==============================] - 99s 3s/step - loss: 4.8745 - val_loss: 4.1971 - lr: 1.2207e-07\n",
      "Epoch 82/150\n",
      "32/32 [==============================] - ETA: 0s - loss: 4.4545\n",
      "Epoch 82: val_loss did not improve from 3.65919\n",
      "\n",
      "Epoch 82: ReduceLROnPlateau reducing learning rate to 6.103515914901436e-08.\n",
      "32/32 [==============================] - 100s 3s/step - loss: 4.4545 - val_loss: 4.9147 - lr: 1.2207e-07\n",
      "Epoch 83/150\n",
      "32/32 [==============================] - ETA: 0s - loss: 3.9787\n",
      "Epoch 83: val_loss did not improve from 3.65919\n",
      "32/32 [==============================] - 100s 3s/step - loss: 3.9787 - val_loss: 4.8326 - lr: 6.1035e-08\n",
      "Epoch 84/150\n",
      "32/32 [==============================] - ETA: 0s - loss: 4.2011\n",
      "Epoch 84: val_loss did not improve from 3.65919\n",
      "32/32 [==============================] - 100s 3s/step - loss: 4.2011 - val_loss: 4.5547 - lr: 6.1035e-08\n",
      "Epoch 85/150\n",
      "32/32 [==============================] - ETA: 0s - loss: 4.5356\n",
      "Epoch 85: val_loss did not improve from 3.65919\n",
      "32/32 [==============================] - 101s 3s/step - loss: 4.5356 - val_loss: 4.7942 - lr: 6.1035e-08\n",
      "Epoch 86/150\n",
      "32/32 [==============================] - ETA: 0s - loss: 4.6399\n",
      "Epoch 86: val_loss did not improve from 3.65919\n",
      "32/32 [==============================] - 100s 3s/step - loss: 4.6399 - val_loss: 4.6508 - lr: 6.1035e-08\n",
      "Epoch 87/150\n",
      "32/32 [==============================] - ETA: 0s - loss: 4.3250\n",
      "Epoch 87: val_loss did not improve from 3.65919\n",
      "\n",
      "Epoch 87: ReduceLROnPlateau reducing learning rate to 3.051757957450718e-08.\n",
      "32/32 [==============================] - 101s 3s/step - loss: 4.3250 - val_loss: 4.1195 - lr: 6.1035e-08\n",
      "Epoch 88/150\n",
      "32/32 [==============================] - ETA: 0s - loss: 4.1429\n",
      "Epoch 88: val_loss did not improve from 3.65919\n",
      "32/32 [==============================] - 101s 3s/step - loss: 4.1429 - val_loss: 4.3154 - lr: 3.0518e-08\n",
      "Epoch 89/150\n",
      "32/32 [==============================] - ETA: 0s - loss: 4.4172\n",
      "Epoch 89: val_loss did not improve from 3.65919\n",
      "32/32 [==============================] - 101s 3s/step - loss: 4.4172 - val_loss: 3.7368 - lr: 3.0518e-08\n",
      "Epoch 90/150\n",
      "32/32 [==============================] - ETA: 0s - loss: 4.4492\n",
      "Epoch 90: val_loss did not improve from 3.65919\n",
      "32/32 [==============================] - 101s 3s/step - loss: 4.4492 - val_loss: 4.7973 - lr: 3.0518e-08\n",
      "Epoch 91/150\n",
      "32/32 [==============================] - ETA: 0s - loss: 4.2740\n",
      "Epoch 91: val_loss did not improve from 3.65919\n",
      "32/32 [==============================] - 101s 3s/step - loss: 4.2740 - val_loss: 4.7979 - lr: 3.0518e-08\n",
      "Epoch 92/150\n",
      "32/32 [==============================] - ETA: 0s - loss: 4.3492\n",
      "Epoch 92: val_loss did not improve from 3.65919\n",
      "\n",
      "Epoch 92: ReduceLROnPlateau reducing learning rate to 1.525878978725359e-08.\n",
      "32/32 [==============================] - 101s 3s/step - loss: 4.3492 - val_loss: 4.8039 - lr: 3.0518e-08\n",
      "Epoch 93/150\n",
      "32/32 [==============================] - ETA: 0s - loss: 3.7977\n",
      "Epoch 93: val_loss did not improve from 3.65919\n",
      "32/32 [==============================] - 101s 3s/step - loss: 3.7977 - val_loss: 4.3059 - lr: 1.5259e-08\n"
     ]
    },
    {
     "name": "stdout",
     "output_type": "stream",
     "text": [
      "Epoch 94/150\n",
      "32/32 [==============================] - ETA: 0s - loss: 4.0841\n",
      "Epoch 94: val_loss did not improve from 3.65919\n",
      "32/32 [==============================] - 101s 3s/step - loss: 4.0841 - val_loss: 4.4391 - lr: 1.5259e-08\n",
      "Epoch 95/150\n",
      "32/32 [==============================] - ETA: 0s - loss: 3.9852\n",
      "Epoch 95: val_loss did not improve from 3.65919\n",
      "32/32 [==============================] - 101s 3s/step - loss: 3.9852 - val_loss: 4.3481 - lr: 1.5259e-08\n",
      "Epoch 96/150\n",
      "32/32 [==============================] - ETA: 0s - loss: 4.1047\n",
      "Epoch 96: val_loss did not improve from 3.65919\n",
      "32/32 [==============================] - 102s 3s/step - loss: 4.1047 - val_loss: 4.3367 - lr: 1.5259e-08\n",
      "Epoch 97/150\n",
      "32/32 [==============================] - ETA: 0s - loss: 4.3212\n",
      "Epoch 97: val_loss did not improve from 3.65919\n",
      "\n",
      "Epoch 97: ReduceLROnPlateau reducing learning rate to 1e-08.\n",
      "32/32 [==============================] - 102s 3s/step - loss: 4.3212 - val_loss: 4.8511 - lr: 1.5259e-08\n",
      "Epoch 98/150\n",
      "32/32 [==============================] - ETA: 0s - loss: 4.2981\n",
      "Epoch 98: val_loss did not improve from 3.65919\n",
      "32/32 [==============================] - 102s 3s/step - loss: 4.2981 - val_loss: 4.1058 - lr: 1.0000e-08\n",
      "Epoch 99/150\n",
      "32/32 [==============================] - ETA: 0s - loss: 4.3487\n",
      "Epoch 99: val_loss did not improve from 3.65919\n",
      "32/32 [==============================] - 102s 3s/step - loss: 4.3487 - val_loss: 4.8889 - lr: 1.0000e-08\n",
      "Epoch 100/150\n",
      "32/32 [==============================] - ETA: 0s - loss: 3.9201\n",
      "Epoch 100: val_loss did not improve from 3.65919\n",
      "32/32 [==============================] - 101s 3s/step - loss: 3.9201 - val_loss: 3.8469 - lr: 1.0000e-08\n",
      "Epoch 101/150\n",
      "32/32 [==============================] - ETA: 0s - loss: 3.9464\n",
      "Epoch 101: val_loss did not improve from 3.65919\n",
      "32/32 [==============================] - 102s 3s/step - loss: 3.9464 - val_loss: 3.8164 - lr: 1.0000e-08\n",
      "Epoch 102/150\n",
      "32/32 [==============================] - ETA: 0s - loss: 4.1957\n",
      "Epoch 102: val_loss did not improve from 3.65919\n",
      "32/32 [==============================] - 102s 3s/step - loss: 4.1957 - val_loss: 4.2459 - lr: 1.0000e-08\n",
      "Epoch 103/150\n",
      "32/32 [==============================] - ETA: 0s - loss: 4.9633\n",
      "Epoch 103: val_loss did not improve from 3.65919\n",
      "32/32 [==============================] - 102s 3s/step - loss: 4.9633 - val_loss: 4.1076 - lr: 1.0000e-08\n",
      "Epoch 104/150\n",
      "32/32 [==============================] - ETA: 0s - loss: 3.8081\n",
      "Epoch 104: val_loss did not improve from 3.65919\n",
      "32/32 [==============================] - 102s 3s/step - loss: 3.8081 - val_loss: 4.1286 - lr: 1.0000e-08\n",
      "Epoch 105/150\n",
      "32/32 [==============================] - ETA: 0s - loss: 4.4188\n",
      "Epoch 105: val_loss did not improve from 3.65919\n",
      "32/32 [==============================] - 102s 3s/step - loss: 4.4188 - val_loss: 3.8947 - lr: 1.0000e-08\n",
      "Epoch 106/150\n",
      "32/32 [==============================] - ETA: 0s - loss: 3.9331\n",
      "Epoch 106: val_loss did not improve from 3.65919\n",
      "32/32 [==============================] - 102s 3s/step - loss: 3.9331 - val_loss: 3.8544 - lr: 1.0000e-08\n",
      "Epoch 107/150\n",
      "32/32 [==============================] - ETA: 0s - loss: 3.7183\n",
      "Epoch 107: val_loss did not improve from 3.65919\n",
      "32/32 [==============================] - 102s 3s/step - loss: 3.7183 - val_loss: 4.5812 - lr: 1.0000e-08\n",
      "Epoch 108/150\n",
      "32/32 [==============================] - ETA: 0s - loss: 4.8276\n",
      "Epoch 108: val_loss did not improve from 3.65919\n",
      "32/32 [==============================] - 102s 3s/step - loss: 4.8276 - val_loss: 4.5118 - lr: 1.0000e-08\n",
      "Epoch 109/150\n",
      "32/32 [==============================] - ETA: 0s - loss: 4.0303\n",
      "Epoch 109: val_loss did not improve from 3.65919\n",
      "32/32 [==============================] - 102s 3s/step - loss: 4.0303 - val_loss: 3.9331 - lr: 1.0000e-08\n",
      "Epoch 110/150\n",
      "32/32 [==============================] - ETA: 0s - loss: 4.4113\n",
      "Epoch 110: val_loss did not improve from 3.65919\n",
      "32/32 [==============================] - 102s 3s/step - loss: 4.4113 - val_loss: 3.9609 - lr: 1.0000e-08\n",
      "Epoch 111/150\n",
      "32/32 [==============================] - ETA: 0s - loss: 4.6346\n",
      "Epoch 111: val_loss did not improve from 3.65919\n",
      "32/32 [==============================] - 103s 3s/step - loss: 4.6346 - val_loss: 4.1774 - lr: 1.0000e-08\n",
      "Epoch 112/150\n",
      "32/32 [==============================] - ETA: 0s - loss: 3.8475\n",
      "Epoch 112: val_loss improved from 3.65919 to 3.57325, saving model to b1_150_epochs.h5\n",
      "32/32 [==============================] - 103s 3s/step - loss: 3.8475 - val_loss: 3.5732 - lr: 1.0000e-08\n",
      "Epoch 113/150\n",
      "32/32 [==============================] - ETA: 0s - loss: 4.2559\n",
      "Epoch 113: val_loss did not improve from 3.57325\n",
      "32/32 [==============================] - 103s 3s/step - loss: 4.2559 - val_loss: 3.7501 - lr: 1.0000e-08\n",
      "Epoch 114/150\n",
      "32/32 [==============================] - ETA: 0s - loss: 4.6930\n",
      "Epoch 114: val_loss did not improve from 3.57325\n",
      "32/32 [==============================] - 103s 3s/step - loss: 4.6930 - val_loss: 4.1401 - lr: 1.0000e-08\n",
      "Epoch 115/150\n",
      "32/32 [==============================] - ETA: 0s - loss: 4.2657\n",
      "Epoch 115: val_loss did not improve from 3.57325\n",
      "32/32 [==============================] - 104s 3s/step - loss: 4.2657 - val_loss: 3.8613 - lr: 1.0000e-08\n",
      "Epoch 116/150\n",
      "32/32 [==============================] - ETA: 0s - loss: 4.1946\n",
      "Epoch 116: val_loss did not improve from 3.57325\n",
      "32/32 [==============================] - 103s 3s/step - loss: 4.1946 - val_loss: 3.8462 - lr: 1.0000e-08\n",
      "Epoch 117/150\n",
      "32/32 [==============================] - ETA: 0s - loss: 4.0385\n",
      "Epoch 117: val_loss did not improve from 3.57325\n",
      "32/32 [==============================] - 103s 3s/step - loss: 4.0385 - val_loss: 5.2866 - lr: 1.0000e-08\n",
      "Epoch 118/150\n",
      "32/32 [==============================] - ETA: 0s - loss: 4.0155\n",
      "Epoch 118: val_loss did not improve from 3.57325\n",
      "32/32 [==============================] - 103s 3s/step - loss: 4.0155 - val_loss: 3.7124 - lr: 1.0000e-08\n",
      "Epoch 119/150\n",
      "32/32 [==============================] - ETA: 0s - loss: 3.6004\n",
      "Epoch 119: val_loss did not improve from 3.57325\n",
      "32/32 [==============================] - 103s 3s/step - loss: 3.6004 - val_loss: 4.4111 - lr: 1.0000e-08\n",
      "Epoch 120/150\n",
      "32/32 [==============================] - ETA: 0s - loss: 4.1278\n",
      "Epoch 120: val_loss did not improve from 3.57325\n",
      "32/32 [==============================] - 103s 3s/step - loss: 4.1278 - val_loss: 3.8944 - lr: 1.0000e-08\n",
      "Epoch 121/150\n",
      "32/32 [==============================] - ETA: 0s - loss: 3.9234\n",
      "Epoch 121: val_loss did not improve from 3.57325\n",
      "32/32 [==============================] - 103s 3s/step - loss: 3.9234 - val_loss: 3.8208 - lr: 1.0000e-08\n",
      "Epoch 122/150\n",
      "32/32 [==============================] - ETA: 0s - loss: 4.1665\n",
      "Epoch 122: val_loss did not improve from 3.57325\n",
      "32/32 [==============================] - 103s 3s/step - loss: 4.1665 - val_loss: 4.5684 - lr: 1.0000e-08\n",
      "Epoch 123/150\n",
      "32/32 [==============================] - ETA: 0s - loss: 4.4248\n",
      "Epoch 123: val_loss did not improve from 3.57325\n",
      "32/32 [==============================] - 104s 3s/step - loss: 4.4248 - val_loss: 4.2988 - lr: 1.0000e-08\n",
      "Epoch 124/150\n",
      "32/32 [==============================] - ETA: 0s - loss: 3.7766\n",
      "Epoch 124: val_loss improved from 3.57325 to 3.52827, saving model to b1_150_epochs.h5\n",
      "32/32 [==============================] - 105s 3s/step - loss: 3.7766 - val_loss: 3.5283 - lr: 1.0000e-08\n",
      "Epoch 125/150\n",
      "32/32 [==============================] - ETA: 0s - loss: 4.8487\n",
      "Epoch 125: val_loss did not improve from 3.52827\n",
      "32/32 [==============================] - 104s 3s/step - loss: 4.8487 - val_loss: 4.1337 - lr: 1.0000e-08\n",
      "Epoch 126/150\n",
      "32/32 [==============================] - ETA: 0s - loss: 4.5103\n",
      "Epoch 126: val_loss did not improve from 3.52827\n",
      "32/32 [==============================] - 104s 3s/step - loss: 4.5103 - val_loss: 4.2089 - lr: 1.0000e-08\n",
      "Epoch 127/150\n",
      "32/32 [==============================] - ETA: 0s - loss: 4.5725\n",
      "Epoch 127: val_loss did not improve from 3.52827\n",
      "32/32 [==============================] - 104s 3s/step - loss: 4.5725 - val_loss: 4.1071 - lr: 1.0000e-08\n",
      "Epoch 128/150\n",
      "32/32 [==============================] - ETA: 0s - loss: 4.1895\n",
      "Epoch 128: val_loss did not improve from 3.52827\n",
      "32/32 [==============================] - 105s 3s/step - loss: 4.1895 - val_loss: 4.1164 - lr: 1.0000e-08\n"
     ]
    },
    {
     "name": "stdout",
     "output_type": "stream",
     "text": [
      "Epoch 129/150\n",
      "32/32 [==============================] - ETA: 0s - loss: 4.7533\n",
      "Epoch 129: val_loss did not improve from 3.52827\n",
      "32/32 [==============================] - 106s 3s/step - loss: 4.7533 - val_loss: 4.7293 - lr: 1.0000e-08\n",
      "Epoch 130/150\n",
      "32/32 [==============================] - ETA: 0s - loss: 4.4013\n",
      "Epoch 130: val_loss did not improve from 3.52827\n",
      "32/32 [==============================] - 106s 3s/step - loss: 4.4013 - val_loss: 4.3871 - lr: 1.0000e-08\n",
      "Epoch 131/150\n",
      "32/32 [==============================] - ETA: 0s - loss: 4.9391\n",
      "Epoch 131: val_loss did not improve from 3.52827\n",
      "32/32 [==============================] - 106s 3s/step - loss: 4.9391 - val_loss: 4.3349 - lr: 1.0000e-08\n",
      "Epoch 132/150\n",
      "32/32 [==============================] - ETA: 0s - loss: 4.6170\n",
      "Epoch 132: val_loss did not improve from 3.52827\n",
      "32/32 [==============================] - 106s 3s/step - loss: 4.6170 - val_loss: 4.4253 - lr: 1.0000e-08\n",
      "Epoch 133/150\n",
      "32/32 [==============================] - ETA: 0s - loss: 4.1339\n",
      "Epoch 133: val_loss did not improve from 3.52827\n",
      "32/32 [==============================] - 106s 3s/step - loss: 4.1339 - val_loss: 4.9340 - lr: 1.0000e-08\n",
      "Epoch 134/150\n",
      "32/32 [==============================] - ETA: 0s - loss: 4.0556\n",
      "Epoch 134: val_loss did not improve from 3.52827\n",
      "32/32 [==============================] - 106s 3s/step - loss: 4.0556 - val_loss: 4.4139 - lr: 1.0000e-08\n",
      "Epoch 135/150\n",
      "32/32 [==============================] - ETA: 0s - loss: 4.0086\n",
      "Epoch 135: val_loss did not improve from 3.52827\n",
      "32/32 [==============================] - 106s 3s/step - loss: 4.0086 - val_loss: 4.0051 - lr: 1.0000e-08\n",
      "Epoch 136/150\n",
      "32/32 [==============================] - ETA: 0s - loss: 4.0309\n",
      "Epoch 136: val_loss did not improve from 3.52827\n",
      "32/32 [==============================] - 106s 3s/step - loss: 4.0309 - val_loss: 4.0878 - lr: 1.0000e-08\n",
      "Epoch 137/150\n",
      "32/32 [==============================] - ETA: 0s - loss: 4.6979\n",
      "Epoch 137: val_loss did not improve from 3.52827\n",
      "32/32 [==============================] - 106s 3s/step - loss: 4.6979 - val_loss: 4.7554 - lr: 1.0000e-08\n",
      "Epoch 138/150\n",
      "32/32 [==============================] - ETA: 0s - loss: 4.1198\n",
      "Epoch 138: val_loss did not improve from 3.52827\n",
      "32/32 [==============================] - 106s 3s/step - loss: 4.1198 - val_loss: 4.6752 - lr: 1.0000e-08\n",
      "Epoch 139/150\n",
      "32/32 [==============================] - ETA: 0s - loss: 4.5543\n",
      "Epoch 139: val_loss did not improve from 3.52827\n",
      "32/32 [==============================] - 106s 3s/step - loss: 4.5543 - val_loss: 5.4915 - lr: 1.0000e-08\n",
      "Epoch 140/150\n",
      "32/32 [==============================] - ETA: 0s - loss: 4.1657\n",
      "Epoch 140: val_loss did not improve from 3.52827\n",
      "32/32 [==============================] - 106s 3s/step - loss: 4.1657 - val_loss: 4.2804 - lr: 1.0000e-08\n",
      "Epoch 141/150\n",
      "32/32 [==============================] - ETA: 0s - loss: 4.0993\n",
      "Epoch 141: val_loss did not improve from 3.52827\n",
      "32/32 [==============================] - 106s 3s/step - loss: 4.0993 - val_loss: 4.1867 - lr: 1.0000e-08\n",
      "Epoch 142/150\n",
      "32/32 [==============================] - ETA: 0s - loss: 4.7963\n",
      "Epoch 142: val_loss did not improve from 3.52827\n",
      "32/32 [==============================] - 106s 3s/step - loss: 4.7963 - val_loss: 3.8684 - lr: 1.0000e-08\n",
      "Epoch 143/150\n",
      "32/32 [==============================] - ETA: 0s - loss: 3.8360\n",
      "Epoch 143: val_loss did not improve from 3.52827\n",
      "32/32 [==============================] - 106s 3s/step - loss: 3.8360 - val_loss: 3.9150 - lr: 1.0000e-08\n",
      "Epoch 144/150\n",
      "32/32 [==============================] - ETA: 0s - loss: 4.6663\n",
      "Epoch 144: val_loss did not improve from 3.52827\n",
      "32/32 [==============================] - 106s 3s/step - loss: 4.6663 - val_loss: 4.1739 - lr: 1.0000e-08\n",
      "Epoch 145/150\n",
      "32/32 [==============================] - ETA: 0s - loss: 4.2846\n",
      "Epoch 145: val_loss improved from 3.52827 to 3.38566, saving model to b1_150_epochs.h5\n",
      "32/32 [==============================] - 106s 3s/step - loss: 4.2846 - val_loss: 3.3857 - lr: 1.0000e-08\n",
      "Epoch 146/150\n",
      "32/32 [==============================] - ETA: 0s - loss: 4.3252\n",
      "Epoch 146: val_loss did not improve from 3.38566\n",
      "32/32 [==============================] - 106s 3s/step - loss: 4.3252 - val_loss: 3.3881 - lr: 1.0000e-08\n",
      "Epoch 147/150\n",
      "32/32 [==============================] - ETA: 0s - loss: 5.0342\n",
      "Epoch 147: val_loss did not improve from 3.38566\n",
      "32/32 [==============================] - 106s 3s/step - loss: 5.0342 - val_loss: 4.1932 - lr: 1.0000e-08\n",
      "Epoch 148/150\n",
      "32/32 [==============================] - ETA: 0s - loss: 4.0677\n",
      "Epoch 148: val_loss did not improve from 3.38566\n",
      "32/32 [==============================] - 106s 3s/step - loss: 4.0677 - val_loss: 4.6936 - lr: 1.0000e-08\n",
      "Epoch 149/150\n",
      "32/32 [==============================] - ETA: 0s - loss: 4.5988\n",
      "Epoch 149: val_loss did not improve from 3.38566\n",
      "32/32 [==============================] - 106s 3s/step - loss: 4.5988 - val_loss: 4.7607 - lr: 1.0000e-08\n",
      "Epoch 150/150\n",
      "32/32 [==============================] - ETA: 0s - loss: 4.2689\n",
      "Epoch 150: val_loss did not improve from 3.38566\n",
      "32/32 [==============================] - 106s 3s/step - loss: 4.2689 - val_loss: 3.9759 - lr: 1.0000e-08\n",
      "Training Complete!!!\n"
     ]
    }
   ],
   "source": [
    "P = np.array(P)\n",
    "subs = []\n",
    "folds_history = []\n",
    "\n",
    "\"\"\"\n",
    "er = tf.keras.callbacks.EarlyStopping(monitor=\"val_loss\",min_delta=1e-3,patience=15,verbose=1,mode=\"auto\",baseline=None,\n",
    "      restore_best_weights=True,) #Stop training when a monitored metric has stopped improving.\n",
    "\"\"\"\n",
    "\n",
    "cpt = tf.keras.callbacks.ModelCheckpoint(filepath=f'{MODEL_CLASS}_{EPOCHS}_epochs.h5',monitor='val_loss',verbose=1, \n",
    "    save_best_only=SAVE_BEST,mode='auto') #to save model or weights in a checkpoint file at lowest validation loss\n",
    "\n",
    "rlp = tf.keras.callbacks.ReduceLROnPlateau(monitor='val_loss',factor=0.5,patience=5, verbose=1, min_lr=1e-8) \n",
    "     #Reduce learning rate when a metric has stopped improving.\n",
    "     # if improvement stops, after 5 epochs learning rate will be reduced\n",
    "\n",
    "model = build_model(model_class=MODEL_CLASS)\n",
    "model.compile(optimizer=tf.keras.optimizers.Adam(learning_rate=LR), loss=\"mae\") \n",
    "history = model.fit(IGenerator(keys=P, a = A, tab = TAB, batch_size=BATCH_SIZE), \n",
    "                    steps_per_epoch = 32,\n",
    "                    validation_data=IGenerator(keys=P, a = A, tab = TAB, batch_size=BATCH_SIZE),\n",
    "                    validation_steps = 32, \n",
    "                    callbacks = [cpt, rlp], \n",
    "                    epochs=EPOCHS)\n",
    "folds_history.append(history.history)\n",
    "print('Training Complete!!!')"
   ]
  },
  {
   "cell_type": "markdown",
   "metadata": {},
   "source": [
    "# Save Model History "
   ]
  },
  {
   "cell_type": "code",
   "execution_count": 44,
   "metadata": {},
   "outputs": [],
   "source": [
    "# convert the history.history dict to a pandas DataFrame:     \n",
    "hist_df = pd.DataFrame(history.history) \n",
    "\n",
    "# save to json:  \n",
    "hist_json_file = './Saved_Models/EffNet_b1_history_100_epoch_imagenet.json' \n",
    "with open(hist_json_file, mode='w') as f:\n",
    "    hist_df.to_json(f)\n",
    "\n",
    "# or save to csv: \n",
    "hist_csv_file = './Saved_Models/EffNet_b1_history_100_epoch_imagenet.csv'\n",
    "with open(hist_csv_file, mode='w') as f:\n",
    "    hist_df.to_csv(f)"
   ]
  },
  {
   "cell_type": "markdown",
   "metadata": {},
   "source": [
    "# Visualize Training Results"
   ]
  },
  {
   "cell_type": "code",
   "execution_count": 45,
   "metadata": {},
   "outputs": [],
   "source": [
    "result_dir = './Dataset/train/B1'\n",
    "loss = history.history['loss']\n",
    "val_loss = history.history['val_loss']\n",
    "epochs_range = range(EPOCHS) "
   ]
  },
  {
   "cell_type": "code",
   "execution_count": 46,
   "metadata": {},
   "outputs": [
    {
     "data": {
      "image/png": "[encoded data removed]",
      "text/plain": [
       "<Figure size 640x480 with 1 Axes>"
      ]
     },
     "metadata": {},
     "output_type": "display_data"
    }
   ],
   "source": [
    "plt.plot(epochs_range, loss, 'b1', label='Training Loss')\n",
    "plt.plot(epochs_range, val_loss, 'b', label='Validation Loss')\n",
    "plt.title('Training and Validation Loss')\n",
    "plt.xlabel('Epochs')\n",
    "plt.ylabel('Loss')\n",
    "plt.legend(loc='upper right')\n",
    "plt.savefig(result_dir + 'b1_100_epoch_loss_imagenet.png')\n",
    "plt.savefig(result_dir + 'b1_100_epoch_loss_imagenet.pdf', dpi=100)\n",
    "tikzplotlib.save(result_dir + 'b1_100_epoch_loss_imagenet.tex')\n",
    "\n",
    "plt.show()"
   ]
  },
  {
   "cell_type": "code",
   "execution_count": 47,
   "metadata": {},
   "outputs": [],
   "source": [
    "def smooth_curve(points, factor=0.85):\n",
    "    smoothed_points = []\n",
    "    for point in points:\n",
    "        if smoothed_points:\n",
    "            previous = smoothed_points[-1]\n",
    "            smoothed_points.append(previous * factor + point * (1 - factor))\n",
    "        else:\n",
    "            smoothed_points.append(point)\n",
    "    return smoothed_points"
   ]
  },
  {
   "cell_type": "code",
   "execution_count": 48,
   "metadata": {
    "scrolled": true
   },
   "outputs": [
    {
     "data": {
      "image/png": "[encoded data removed]",
      "text/plain": [
       "<Figure size 640x480 with 1 Axes>"
      ]
     },
     "metadata": {},
     "output_type": "display_data"
    }
   ],
   "source": [
    "epochs_range = range(20,EPOCHS)\n",
    "plt.plot(epochs_range,\n",
    "         smooth_curve(loss[20:]), 'b1', label='Training loss')\n",
    "plt.plot(epochs_range,\n",
    "         smooth_curve(val_loss[20:]), 'b', label='Validation loss')\n",
    "plt.title('Training and validation loss')\n",
    "plt.xlabel('Epochs')\n",
    "plt.ylabel('Loss')\n",
    "plt.legend()\n",
    "\n",
    "\n",
    "plt.savefig(result_dir + 'b1_100_epoch_loss_smooth_imagenet.png')\n",
    "plt.savefig(result_dir + 'b1_100_epoch_loss_smooth_imagenet.pdf', dpi=100)\n",
    "tikzplotlib.save(result_dir + 'b1_100_epoch_loss_smooth_imagenet.tex')\n",
    "\n",
    "plt.show()"
   ]
  },
  {
   "cell_type": "code",
   "execution_count": 49,
   "metadata": {},
   "outputs": [],
   "source": [
    "def score(fvc_true, fvc_pred, sigma):\n",
    "    sigma_clip = np.maximum(sigma, 70)\n",
    "    delta = np.abs(fvc_true - fvc_pred)\n",
    "    delta = np.minimum(delta, 1000)\n",
    "    sq2 = np.sqrt(2)\n",
    "    metric = (delta / sigma_clip)*sq2 + np.log(sigma_clip* sq2)\n",
    "    return np.mean(metric)"
   ]
  },
  {
   "cell_type": "code",
   "execution_count": 51,
   "metadata": {},
   "outputs": [
    {
     "data": {
      "application/vnd.jupyter.widget-view+json": {
       "model_id": "cd09f528c6ea4ec388dc7104f3fcadf9",
       "version_major": 2,
       "version_minor": 0
      },
      "text/plain": [
       "  0%|          | 0/4 [00:00<?, ?it/s]"
      ]
     },
     "metadata": {},
     "output_type": "display_data"
    },
    {
     "ename": "MemoryError",
     "evalue": "Unable to allocate 2.75 GiB for an array with shape (469, 512, 512, 3) and data type float64",
     "output_type": "error",
     "traceback": [
      "\u001b[1;31m---------------------------------------------------------------------------\u001b[0m",
      "\u001b[1;31mMemoryError\u001b[0m                               Traceback (most recent call last)",
      "\u001b[1;32m~\\AppData\\Local\\Temp\\ipykernel_4820\\1213214032.py\u001b[0m in \u001b[0;36m<module>\u001b[1;34m\u001b[0m\n\u001b[0;32m     13\u001b[0m         \u001b[0mtab\u001b[0m \u001b[1;33m=\u001b[0m \u001b[0mnp\u001b[0m\u001b[1;33m.\u001b[0m\u001b[0marray\u001b[0m\u001b[1;33m(\u001b[0m\u001b[0mtab\u001b[0m\u001b[1;33m)\u001b[0m\u001b[1;33m\u001b[0m\u001b[1;33m\u001b[0m\u001b[0m\n\u001b[0;32m     14\u001b[0m \u001b[1;33m\u001b[0m\u001b[0m\n\u001b[1;32m---> 15\u001b[1;33m         \u001b[0mx\u001b[0m \u001b[1;33m=\u001b[0m \u001b[0mnp\u001b[0m\u001b[1;33m.\u001b[0m\u001b[0mexpand_dims\u001b[0m\u001b[1;33m(\u001b[0m\u001b[0mx\u001b[0m\u001b[1;33m,\u001b[0m \u001b[0maxis\u001b[0m\u001b[1;33m=\u001b[0m\u001b[1;33m-\u001b[0m\u001b[1;36m1\u001b[0m\u001b[1;33m)\u001b[0m\u001b[1;33m\u001b[0m\u001b[1;33m\u001b[0m\u001b[0m\n\u001b[0m\u001b[0;32m     16\u001b[0m         \u001b[0m_a\u001b[0m \u001b[1;33m=\u001b[0m \u001b[0mmodel\u001b[0m\u001b[1;33m.\u001b[0m\u001b[0mpredict\u001b[0m\u001b[1;33m(\u001b[0m\u001b[1;33m[\u001b[0m\u001b[0mx\u001b[0m\u001b[1;33m,\u001b[0m \u001b[0mtab\u001b[0m\u001b[1;33m]\u001b[0m\u001b[1;33m)\u001b[0m\u001b[1;33m\u001b[0m\u001b[1;33m\u001b[0m\u001b[0m\n\u001b[0;32m     17\u001b[0m         \u001b[0ma\u001b[0m \u001b[1;33m=\u001b[0m \u001b[0mnp\u001b[0m\u001b[1;33m.\u001b[0m\u001b[0mquantile\u001b[0m\u001b[1;33m(\u001b[0m\u001b[0m_a\u001b[0m\u001b[1;33m,\u001b[0m \u001b[0mq\u001b[0m \u001b[1;33m/\u001b[0m \u001b[1;36m10\u001b[0m\u001b[1;33m)\u001b[0m\u001b[1;33m\u001b[0m\u001b[1;33m\u001b[0m\u001b[0m\n",
      "\u001b[1;32m<__array_function__ internals>\u001b[0m in \u001b[0;36mexpand_dims\u001b[1;34m(*args, **kwargs)\u001b[0m\n",
      "\u001b[1;32m~\\Anaconda3\\envs\\keras-gpu\\lib\\site-packages\\numpy\\lib\\shape_base.py\u001b[0m in \u001b[0;36mexpand_dims\u001b[1;34m(a, axis)\u001b[0m\n\u001b[0;32m    589\u001b[0m         \u001b[0ma\u001b[0m \u001b[1;33m=\u001b[0m \u001b[0masarray\u001b[0m\u001b[1;33m(\u001b[0m\u001b[0ma\u001b[0m\u001b[1;33m)\u001b[0m\u001b[1;33m\u001b[0m\u001b[1;33m\u001b[0m\u001b[0m\n\u001b[0;32m    590\u001b[0m     \u001b[1;32melse\u001b[0m\u001b[1;33m:\u001b[0m\u001b[1;33m\u001b[0m\u001b[1;33m\u001b[0m\u001b[0m\n\u001b[1;32m--> 591\u001b[1;33m         \u001b[0ma\u001b[0m \u001b[1;33m=\u001b[0m \u001b[0masanyarray\u001b[0m\u001b[1;33m(\u001b[0m\u001b[0ma\u001b[0m\u001b[1;33m)\u001b[0m\u001b[1;33m\u001b[0m\u001b[1;33m\u001b[0m\u001b[0m\n\u001b[0m\u001b[0;32m    592\u001b[0m \u001b[1;33m\u001b[0m\u001b[0m\n\u001b[0;32m    593\u001b[0m     \u001b[1;32mif\u001b[0m \u001b[0mtype\u001b[0m\u001b[1;33m(\u001b[0m\u001b[0maxis\u001b[0m\u001b[1;33m)\u001b[0m \u001b[1;32mnot\u001b[0m \u001b[1;32min\u001b[0m \u001b[1;33m(\u001b[0m\u001b[0mtuple\u001b[0m\u001b[1;33m,\u001b[0m \u001b[0mlist\u001b[0m\u001b[1;33m)\u001b[0m\u001b[1;33m:\u001b[0m\u001b[1;33m\u001b[0m\u001b[1;33m\u001b[0m\u001b[0m\n",
      "\u001b[1;31mMemoryError\u001b[0m: Unable to allocate 2.75 GiB for an array with shape (469, 512, 512, 3) and data type float64"
     ]
    }
   ],
   "source": [
    "metric = []\n",
    "for q in tqdm(range(1, 5)):\n",
    "    m = []\n",
    "    for p in vl_p:\n",
    "        x = [] \n",
    "        tab = [] \n",
    "        \n",
    "        if p in ['ID00011637202177653955184', 'ID00052637202186188008618']:\n",
    "            continue\n",
    "        for i in os.listdir(f'./Dataset/train/{p}/'):\n",
    "            x.append(get_img(f'./Dataset/train/{p}/{i}')) \n",
    "            tab.append(get_tab(train.loc[train.Patient == p, :])) \n",
    "        tab = np.array(tab) \n",
    "    \n",
    "        x = np.expand_dims(x, axis=-1) \n",
    "        _a = model.predict([x, tab]) \n",
    "        a = np.quantile(_a, q / 10)\n",
    "        \n",
    "        percent_true = train.Percent.values[train.Patient == p]\n",
    "        fvc_true = train.FVC.values[train.Patient == p]\n",
    "        weeks_true = train.Weeks.values[train.Patient == p]\n",
    "        \n",
    "        fvc = a * (weeks_true - weeks_true[0]) + fvc_true[0]\n",
    "        percent = percent_true[0] - a * abs(weeks_true - weeks_true[0])\n",
    "        m.append(score(fvc_true, fvc, percent))\n",
    "    print(np.mean(m))\n",
    "    metric.append(np.mean(m))"
   ]
  },
  {
   "cell_type": "code",
   "execution_count": null,
   "metadata": {},
   "outputs": [],
   "source": [
    "q = (np.argmin(metric) + 1)/ 2\n",
    "q"
   ]
  },
  {
   "cell_type": "code",
   "execution_count": null,
   "metadata": {},
   "outputs": [],
   "source": [
    "sub = pd.read_csv('./Dataset//sample_submission.csv') \n",
    "sub.head()"
   ]
  },
  {
   "cell_type": "code",
   "execution_count": null,
   "metadata": {},
   "outputs": [],
   "source": [
    "test = pd.read_csv('./Dataset//test.csv') \n",
    "test"
   ]
  },
  {
   "cell_type": "code",
   "execution_count": null,
   "metadata": {},
   "outputs": [],
   "source": [
    "A_test, B_test, P_test, W, FVC, STD, WEEK = {},{},{},{},{},{},{} \n",
    "\n",
    "for p in test.Patient.unique():\n",
    "    x = [] \n",
    "    tab = [] \n",
    "    for i in os.listdir(f'./Dataset//test/{p}/'):\n",
    "        x.append(get_img(f'./Dataset//test/{p}/{i}')) \n",
    "        tab.append(get_tab(test.loc[test.Patient == p, :])) \n",
    "    tab = np.array(tab) \n",
    "            \n",
    "    x = np.expand_dims(x, axis=-1) \n",
    "    _a = model.predict([x, tab]) \n",
    "    a = np.quantile(_a, q)\n",
    "    A_test[p] = a\n",
    "    B_test[p] = test.FVC.values[test.Patient == p] - a*test.Weeks.values[test.Patient == p]\n",
    "    P_test[p] = test.Percent.values[test.Patient == p] \n",
    "    WEEK[p] = test.Weeks.values[test.Patient == p]"
   ]
  },
  {
   "cell_type": "code",
   "execution_count": 52,
   "metadata": {},
   "outputs": [
    {
     "ename": "AttributeError",
     "evalue": "'DataFrame' object has no attribute 'Patient_Week'",
     "output_type": "error",
     "traceback": [
      "\u001b[1;31m---------------------------------------------------------------------------\u001b[0m",
      "\u001b[1;31mAttributeError\u001b[0m                            Traceback (most recent call last)",
      "\u001b[1;32m~\\AppData\\Local\\Temp\\ipykernel_4820\\848746774.py\u001b[0m in \u001b[0;36m<module>\u001b[1;34m\u001b[0m\n\u001b[1;32m----> 1\u001b[1;33m \u001b[1;32mfor\u001b[0m \u001b[0mk\u001b[0m \u001b[1;32min\u001b[0m \u001b[0msub\u001b[0m\u001b[1;33m.\u001b[0m\u001b[0mPatient_Week\u001b[0m\u001b[1;33m.\u001b[0m\u001b[0mvalues\u001b[0m\u001b[1;33m:\u001b[0m\u001b[1;33m\u001b[0m\u001b[1;33m\u001b[0m\u001b[0m\n\u001b[0m\u001b[0;32m      2\u001b[0m     \u001b[0mp\u001b[0m\u001b[1;33m,\u001b[0m \u001b[0mw\u001b[0m \u001b[1;33m=\u001b[0m \u001b[0mk\u001b[0m\u001b[1;33m.\u001b[0m\u001b[0msplit\u001b[0m\u001b[1;33m(\u001b[0m\u001b[1;34m'_'\u001b[0m\u001b[1;33m)\u001b[0m\u001b[1;33m\u001b[0m\u001b[1;33m\u001b[0m\u001b[0m\n\u001b[0;32m      3\u001b[0m     \u001b[0mw\u001b[0m \u001b[1;33m=\u001b[0m \u001b[0mint\u001b[0m\u001b[1;33m(\u001b[0m\u001b[0mw\u001b[0m\u001b[1;33m)\u001b[0m\u001b[1;33m\u001b[0m\u001b[1;33m\u001b[0m\u001b[0m\n\u001b[0;32m      4\u001b[0m \u001b[1;33m\u001b[0m\u001b[0m\n\u001b[0;32m      5\u001b[0m     \u001b[0mfvc\u001b[0m \u001b[1;33m=\u001b[0m \u001b[0mA_test\u001b[0m\u001b[1;33m[\u001b[0m\u001b[0mp\u001b[0m\u001b[1;33m]\u001b[0m \u001b[1;33m*\u001b[0m \u001b[0mw\u001b[0m \u001b[1;33m+\u001b[0m \u001b[0mB_test\u001b[0m\u001b[1;33m[\u001b[0m\u001b[0mp\u001b[0m\u001b[1;33m]\u001b[0m\u001b[1;33m\u001b[0m\u001b[1;33m\u001b[0m\u001b[0m\n",
      "\u001b[1;32m~\\Anaconda3\\envs\\keras-gpu\\lib\\site-packages\\pandas\\core\\generic.py\u001b[0m in \u001b[0;36m__getattr__\u001b[1;34m(self, name)\u001b[0m\n\u001b[0;32m   5460\u001b[0m             \u001b[1;32mif\u001b[0m \u001b[0mself\u001b[0m\u001b[1;33m.\u001b[0m\u001b[0m_info_axis\u001b[0m\u001b[1;33m.\u001b[0m\u001b[0m_can_hold_identifiers_and_holds_name\u001b[0m\u001b[1;33m(\u001b[0m\u001b[0mname\u001b[0m\u001b[1;33m)\u001b[0m\u001b[1;33m:\u001b[0m\u001b[1;33m\u001b[0m\u001b[1;33m\u001b[0m\u001b[0m\n\u001b[0;32m   5461\u001b[0m                 \u001b[1;32mreturn\u001b[0m \u001b[0mself\u001b[0m\u001b[1;33m[\u001b[0m\u001b[0mname\u001b[0m\u001b[1;33m]\u001b[0m\u001b[1;33m\u001b[0m\u001b[1;33m\u001b[0m\u001b[0m\n\u001b[1;32m-> 5462\u001b[1;33m             \u001b[1;32mreturn\u001b[0m \u001b[0mobject\u001b[0m\u001b[1;33m.\u001b[0m\u001b[0m__getattribute__\u001b[0m\u001b[1;33m(\u001b[0m\u001b[0mself\u001b[0m\u001b[1;33m,\u001b[0m \u001b[0mname\u001b[0m\u001b[1;33m)\u001b[0m\u001b[1;33m\u001b[0m\u001b[1;33m\u001b[0m\u001b[0m\n\u001b[0m\u001b[0;32m   5463\u001b[0m \u001b[1;33m\u001b[0m\u001b[0m\n\u001b[0;32m   5464\u001b[0m     \u001b[1;32mdef\u001b[0m \u001b[0m__setattr__\u001b[0m\u001b[1;33m(\u001b[0m\u001b[0mself\u001b[0m\u001b[1;33m,\u001b[0m \u001b[0mname\u001b[0m\u001b[1;33m:\u001b[0m \u001b[0mstr\u001b[0m\u001b[1;33m,\u001b[0m \u001b[0mvalue\u001b[0m\u001b[1;33m)\u001b[0m \u001b[1;33m->\u001b[0m \u001b[1;32mNone\u001b[0m\u001b[1;33m:\u001b[0m\u001b[1;33m\u001b[0m\u001b[1;33m\u001b[0m\u001b[0m\n",
      "\u001b[1;31mAttributeError\u001b[0m: 'DataFrame' object has no attribute 'Patient_Week'"
     ]
    }
   ],
   "source": [
    "for k in sub.Patient_Week.values:\n",
    "    p, w = k.split('_')\n",
    "    w = int(w) \n",
    "    \n",
    "    fvc = A_test[p] * w + B_test[p]\n",
    "    sub.loc[sub.Patient_Week == k, 'FVC'] = fvc\n",
    "    sub.loc[sub.Patient_Week == k, 'Confidence'] = (\n",
    "        P_test[p] - A_test[p] * abs(WEEK[p] - w) \n",
    ") "
   ]
  },
  {
   "cell_type": "code",
   "execution_count": 53,
   "metadata": {},
   "outputs": [
    {
     "data": {
      "text/html": [
       "<div>\n",
       "<style scoped>\n",
       "    .dataframe tbody tr th:only-of-type {\n",
       "        vertical-align: middle;\n",
       "    }\n",
       "\n",
       "    .dataframe tbody tr th {\n",
       "        vertical-align: top;\n",
       "    }\n",
       "\n",
       "    .dataframe thead th {\n",
       "        text-align: right;\n",
       "    }\n",
       "</style>\n",
       "<table border=\"1\" class=\"dataframe\">\n",
       "  <thead>\n",
       "    <tr style=\"text-align: right;\">\n",
       "      <th></th>\n",
       "      <th>Patient</th>\n",
       "      <th>Weeks</th>\n",
       "      <th>FVC</th>\n",
       "      <th>Percent</th>\n",
       "      <th>Age</th>\n",
       "      <th>Sex</th>\n",
       "      <th>SmokingStatus</th>\n",
       "    </tr>\n",
       "  </thead>\n",
       "  <tbody>\n",
       "    <tr>\n",
       "      <th>1540</th>\n",
       "      <td>ID00426637202313170790466</td>\n",
       "      <td>0</td>\n",
       "      <td>2925</td>\n",
       "      <td>71.824968</td>\n",
       "      <td>73</td>\n",
       "      <td>Male</td>\n",
       "      <td>Never smoked</td>\n",
       "    </tr>\n",
       "    <tr>\n",
       "      <th>1541</th>\n",
       "      <td>ID00426637202313170790466</td>\n",
       "      <td>7</td>\n",
       "      <td>2903</td>\n",
       "      <td>71.284746</td>\n",
       "      <td>73</td>\n",
       "      <td>Male</td>\n",
       "      <td>Never smoked</td>\n",
       "    </tr>\n",
       "    <tr>\n",
       "      <th>1542</th>\n",
       "      <td>ID00426637202313170790466</td>\n",
       "      <td>9</td>\n",
       "      <td>2916</td>\n",
       "      <td>71.603968</td>\n",
       "      <td>73</td>\n",
       "      <td>Male</td>\n",
       "      <td>Never smoked</td>\n",
       "    </tr>\n",
       "    <tr>\n",
       "      <th>1543</th>\n",
       "      <td>ID00426637202313170790466</td>\n",
       "      <td>11</td>\n",
       "      <td>2976</td>\n",
       "      <td>73.077301</td>\n",
       "      <td>73</td>\n",
       "      <td>Male</td>\n",
       "      <td>Never smoked</td>\n",
       "    </tr>\n",
       "    <tr>\n",
       "      <th>1544</th>\n",
       "      <td>ID00426637202313170790466</td>\n",
       "      <td>13</td>\n",
       "      <td>2712</td>\n",
       "      <td>66.594637</td>\n",
       "      <td>73</td>\n",
       "      <td>Male</td>\n",
       "      <td>Never smoked</td>\n",
       "    </tr>\n",
       "  </tbody>\n",
       "</table>\n",
       "</div>"
      ],
      "text/plain": [
       "                        Patient  Weeks   FVC    Percent  Age   Sex  \\\n",
       "1540  ID00426637202313170790466      0  2925  71.824968   73  Male   \n",
       "1541  ID00426637202313170790466      7  2903  71.284746   73  Male   \n",
       "1542  ID00426637202313170790466      9  2916  71.603968   73  Male   \n",
       "1543  ID00426637202313170790466     11  2976  73.077301   73  Male   \n",
       "1544  ID00426637202313170790466     13  2712  66.594637   73  Male   \n",
       "\n",
       "     SmokingStatus  \n",
       "1540  Never smoked  \n",
       "1541  Never smoked  \n",
       "1542  Never smoked  \n",
       "1543  Never smoked  \n",
       "1544  Never smoked  "
      ]
     },
     "execution_count": 53,
     "metadata": {},
     "output_type": "execute_result"
    }
   ],
   "source": [
    "sub.head()"
   ]
  },
  {
   "cell_type": "code",
   "execution_count": 54,
   "metadata": {},
   "outputs": [
    {
     "ename": "KeyError",
     "evalue": "\"['Patient_Week', 'Confidence'] not in index\"",
     "output_type": "error",
     "traceback": [
      "\u001b[1;31m---------------------------------------------------------------------------\u001b[0m",
      "\u001b[1;31mKeyError\u001b[0m                                  Traceback (most recent call last)",
      "\u001b[1;32m~\\AppData\\Local\\Temp\\ipykernel_4820\\840817070.py\u001b[0m in \u001b[0;36m<module>\u001b[1;34m\u001b[0m\n\u001b[1;32m----> 1\u001b[1;33m \u001b[0msub\u001b[0m\u001b[1;33m[\u001b[0m\u001b[1;33m[\u001b[0m\u001b[1;34m\"Patient_Week\"\u001b[0m\u001b[1;33m,\u001b[0m\u001b[1;34m\"FVC\"\u001b[0m\u001b[1;33m,\u001b[0m\u001b[1;34m\"Confidence\"\u001b[0m\u001b[1;33m]\u001b[0m\u001b[1;33m]\u001b[0m\u001b[1;33m.\u001b[0m\u001b[0mto_csv\u001b[0m\u001b[1;33m(\u001b[0m\u001b[1;34m\"submission.csv\"\u001b[0m\u001b[1;33m,\u001b[0m \u001b[0mindex\u001b[0m\u001b[1;33m=\u001b[0m\u001b[1;32mFalse\u001b[0m\u001b[1;33m)\u001b[0m\u001b[1;33m\u001b[0m\u001b[1;33m\u001b[0m\u001b[0m\n\u001b[0m",
      "\u001b[1;32m~\\Anaconda3\\envs\\keras-gpu\\lib\\site-packages\\pandas\\core\\frame.py\u001b[0m in \u001b[0;36m__getitem__\u001b[1;34m(self, key)\u001b[0m\n\u001b[0;32m   3028\u001b[0m             \u001b[1;32mif\u001b[0m \u001b[0mis_iterator\u001b[0m\u001b[1;33m(\u001b[0m\u001b[0mkey\u001b[0m\u001b[1;33m)\u001b[0m\u001b[1;33m:\u001b[0m\u001b[1;33m\u001b[0m\u001b[1;33m\u001b[0m\u001b[0m\n\u001b[0;32m   3029\u001b[0m                 \u001b[0mkey\u001b[0m \u001b[1;33m=\u001b[0m \u001b[0mlist\u001b[0m\u001b[1;33m(\u001b[0m\u001b[0mkey\u001b[0m\u001b[1;33m)\u001b[0m\u001b[1;33m\u001b[0m\u001b[1;33m\u001b[0m\u001b[0m\n\u001b[1;32m-> 3030\u001b[1;33m             \u001b[0mindexer\u001b[0m \u001b[1;33m=\u001b[0m \u001b[0mself\u001b[0m\u001b[1;33m.\u001b[0m\u001b[0mloc\u001b[0m\u001b[1;33m.\u001b[0m\u001b[0m_get_listlike_indexer\u001b[0m\u001b[1;33m(\u001b[0m\u001b[0mkey\u001b[0m\u001b[1;33m,\u001b[0m \u001b[0maxis\u001b[0m\u001b[1;33m=\u001b[0m\u001b[1;36m1\u001b[0m\u001b[1;33m,\u001b[0m \u001b[0mraise_missing\u001b[0m\u001b[1;33m=\u001b[0m\u001b[1;32mTrue\u001b[0m\u001b[1;33m)\u001b[0m\u001b[1;33m[\u001b[0m\u001b[1;36m1\u001b[0m\u001b[1;33m]\u001b[0m\u001b[1;33m\u001b[0m\u001b[1;33m\u001b[0m\u001b[0m\n\u001b[0m\u001b[0;32m   3031\u001b[0m \u001b[1;33m\u001b[0m\u001b[0m\n\u001b[0;32m   3032\u001b[0m         \u001b[1;31m# take() does not accept boolean indexers\u001b[0m\u001b[1;33m\u001b[0m\u001b[1;33m\u001b[0m\u001b[1;33m\u001b[0m\u001b[0m\n",
      "\u001b[1;32m~\\Anaconda3\\envs\\keras-gpu\\lib\\site-packages\\pandas\\core\\indexing.py\u001b[0m in \u001b[0;36m_get_listlike_indexer\u001b[1;34m(self, key, axis, raise_missing)\u001b[0m\n\u001b[0;32m   1264\u001b[0m             \u001b[0mkeyarr\u001b[0m\u001b[1;33m,\u001b[0m \u001b[0mindexer\u001b[0m\u001b[1;33m,\u001b[0m \u001b[0mnew_indexer\u001b[0m \u001b[1;33m=\u001b[0m \u001b[0max\u001b[0m\u001b[1;33m.\u001b[0m\u001b[0m_reindex_non_unique\u001b[0m\u001b[1;33m(\u001b[0m\u001b[0mkeyarr\u001b[0m\u001b[1;33m)\u001b[0m\u001b[1;33m\u001b[0m\u001b[1;33m\u001b[0m\u001b[0m\n\u001b[0;32m   1265\u001b[0m \u001b[1;33m\u001b[0m\u001b[0m\n\u001b[1;32m-> 1266\u001b[1;33m         \u001b[0mself\u001b[0m\u001b[1;33m.\u001b[0m\u001b[0m_validate_read_indexer\u001b[0m\u001b[1;33m(\u001b[0m\u001b[0mkeyarr\u001b[0m\u001b[1;33m,\u001b[0m \u001b[0mindexer\u001b[0m\u001b[1;33m,\u001b[0m \u001b[0maxis\u001b[0m\u001b[1;33m,\u001b[0m \u001b[0mraise_missing\u001b[0m\u001b[1;33m=\u001b[0m\u001b[0mraise_missing\u001b[0m\u001b[1;33m)\u001b[0m\u001b[1;33m\u001b[0m\u001b[1;33m\u001b[0m\u001b[0m\n\u001b[0m\u001b[0;32m   1267\u001b[0m         \u001b[1;32mreturn\u001b[0m \u001b[0mkeyarr\u001b[0m\u001b[1;33m,\u001b[0m \u001b[0mindexer\u001b[0m\u001b[1;33m\u001b[0m\u001b[1;33m\u001b[0m\u001b[0m\n\u001b[0;32m   1268\u001b[0m \u001b[1;33m\u001b[0m\u001b[0m\n",
      "\u001b[1;32m~\\Anaconda3\\envs\\keras-gpu\\lib\\site-packages\\pandas\\core\\indexing.py\u001b[0m in \u001b[0;36m_validate_read_indexer\u001b[1;34m(self, key, indexer, axis, raise_missing)\u001b[0m\n\u001b[0;32m   1314\u001b[0m             \u001b[1;32mif\u001b[0m \u001b[0mraise_missing\u001b[0m\u001b[1;33m:\u001b[0m\u001b[1;33m\u001b[0m\u001b[1;33m\u001b[0m\u001b[0m\n\u001b[0;32m   1315\u001b[0m                 \u001b[0mnot_found\u001b[0m \u001b[1;33m=\u001b[0m \u001b[0mlist\u001b[0m\u001b[1;33m(\u001b[0m\u001b[0mset\u001b[0m\u001b[1;33m(\u001b[0m\u001b[0mkey\u001b[0m\u001b[1;33m)\u001b[0m \u001b[1;33m-\u001b[0m \u001b[0mset\u001b[0m\u001b[1;33m(\u001b[0m\u001b[0max\u001b[0m\u001b[1;33m)\u001b[0m\u001b[1;33m)\u001b[0m\u001b[1;33m\u001b[0m\u001b[1;33m\u001b[0m\u001b[0m\n\u001b[1;32m-> 1316\u001b[1;33m                 \u001b[1;32mraise\u001b[0m \u001b[0mKeyError\u001b[0m\u001b[1;33m(\u001b[0m\u001b[1;34mf\"{not_found} not in index\"\u001b[0m\u001b[1;33m)\u001b[0m\u001b[1;33m\u001b[0m\u001b[1;33m\u001b[0m\u001b[0m\n\u001b[0m\u001b[0;32m   1317\u001b[0m \u001b[1;33m\u001b[0m\u001b[0m\n\u001b[0;32m   1318\u001b[0m             \u001b[0mnot_found\u001b[0m \u001b[1;33m=\u001b[0m \u001b[0mkey\u001b[0m\u001b[1;33m[\u001b[0m\u001b[0mmissing_mask\u001b[0m\u001b[1;33m]\u001b[0m\u001b[1;33m\u001b[0m\u001b[1;33m\u001b[0m\u001b[0m\n",
      "\u001b[1;31mKeyError\u001b[0m: \"['Patient_Week', 'Confidence'] not in index\""
     ]
    }
   ],
   "source": [
    "sub[[\"Patient_Week\",\"FVC\",\"Confidence\"]].to_csv(\"submission.csv\", index=False)"
   ]
  },
  {
   "cell_type": "code",
   "execution_count": 55,
   "metadata": {},
   "outputs": [
    {
     "name": "stdout",
     "output_type": "stream",
     "text": [
      "add infos\n"
     ]
    }
   ],
   "source": [
    "ROOT = \"./Dataset//\"\n",
    "BATCH_SIZE=128\n",
    "\n",
    "tr = pd.read_csv(f\"{ROOT}/train.csv\")\n",
    "tr.drop_duplicates(keep=False, inplace=True, subset=['Patient','Weeks'])\n",
    "chunk = pd.read_csv(f\"{ROOT}/test.csv\")\n",
    "\n",
    "print(\"add infos\")\n",
    "sub = pd.read_csv(f\"{ROOT}/sample_submission.csv\")\n",
    "sub['Patient'] = sub['Patient_Week'].apply(lambda x:x.split('_')[0])\n",
    "sub['Weeks'] = sub['Patient_Week'].apply(lambda x: int(x.split('_')[-1]))\n",
    "sub =  sub[['Patient','Weeks','Confidence','Patient_Week']]\n",
    "sub = sub.merge(chunk.drop('Weeks', axis=1), on=\"Patient\")"
   ]
  },
  {
   "cell_type": "code",
   "execution_count": 56,
   "metadata": {},
   "outputs": [],
   "source": [
    "tr['WHERE'] = 'train'\n",
    "chunk['WHERE'] = 'val'\n",
    "sub['WHERE'] = 'test'\n",
    "data = tr.append([chunk, sub])"
   ]
  },
  {
   "cell_type": "code",
   "execution_count": 57,
   "metadata": {},
   "outputs": [
    {
     "name": "stdout",
     "output_type": "stream",
     "text": [
      "(1535, 8) (5, 8) (730, 10) (2270, 10)\n",
      "176 5 5 176\n"
     ]
    }
   ],
   "source": [
    "print(tr.shape, chunk.shape, sub.shape, data.shape)\n",
    "print(tr.Patient.nunique(), chunk.Patient.nunique(), sub.Patient.nunique(), \n",
    "      data.Patient.nunique())"
   ]
  },
  {
   "cell_type": "code",
   "execution_count": 58,
   "metadata": {},
   "outputs": [],
   "source": [
    "data['min_week'] = data['Weeks']\n",
    "data.loc[data.WHERE=='test','min_week'] = np.nan\n",
    "data['min_week'] = data.groupby('Patient')['min_week'].transform('min')"
   ]
  },
  {
   "cell_type": "code",
   "execution_count": 59,
   "metadata": {},
   "outputs": [],
   "source": [
    "base = data.loc[data.Weeks == data.min_week]\n",
    "base = base[['Patient','FVC']].copy()\n",
    "base.columns = ['Patient','min_FVC']\n",
    "base['nb'] = 1\n",
    "base['nb'] = base.groupby('Patient')['nb'].transform('cumsum')\n",
    "base = base[base.nb==1]\n",
    "base.drop('nb', axis=1, inplace=True)"
   ]
  },
  {
   "cell_type": "code",
   "execution_count": 60,
   "metadata": {},
   "outputs": [],
   "source": [
    "data = data.merge(base, on='Patient', how='left')\n",
    "data['base_week'] = data['Weeks'] - data['min_week']\n",
    "del base"
   ]
  },
  {
   "cell_type": "code",
   "execution_count": 61,
   "metadata": {},
   "outputs": [],
   "source": [
    "COLS = ['Sex','SmokingStatus'] #,'Age'\n",
    "FE = []\n",
    "for col in COLS:\n",
    "    for mod in data[col].unique():\n",
    "        FE.append(mod)\n",
    "        data[mod] = (data[col] == mod).astype(int)"
   ]
  },
  {
   "cell_type": "code",
   "execution_count": 62,
   "metadata": {},
   "outputs": [],
   "source": [
    "data['age'] = (data['Age'] - data['Age'].min() ) / ( data['Age'].max() - data['Age'].min() )\n",
    "data['BASE'] = (data['min_FVC'] - data['min_FVC'].min() ) / ( data['min_FVC'].max() - data['min_FVC'].min() )\n",
    "data['week'] = (data['base_week'] - data['base_week'].min() ) / ( data['base_week'].max() - data['base_week'].min() )\n",
    "data['percent'] = (data['Percent'] - data['Percent'].min() ) / ( data['Percent'].max() - data['Percent'].min() )\n",
    "FE += ['age','percent','week','BASE']"
   ]
  },
  {
   "cell_type": "code",
   "execution_count": 63,
   "metadata": {},
   "outputs": [],
   "source": [
    "tr = data.loc[data.WHERE=='train']\n",
    "chunk = data.loc[data.WHERE=='val']\n",
    "sub = data.loc[data.WHERE=='test']\n",
    "del data"
   ]
  },
  {
   "cell_type": "code",
   "execution_count": 64,
   "metadata": {},
   "outputs": [
    {
     "data": {
      "text/plain": [
       "((1535, 22), (5, 22), (730, 22))"
      ]
     },
     "execution_count": 64,
     "metadata": {},
     "output_type": "execute_result"
    }
   ],
   "source": [
    "tr.shape, chunk.shape, sub.shape"
   ]
  },
  {
   "cell_type": "code",
   "execution_count": null,
   "metadata": {},
   "outputs": [],
   "source": []
  },
  {
   "cell_type": "code",
   "execution_count": 65,
   "metadata": {},
   "outputs": [],
   "source": [
    "C1, C2 = tf.constant(70, dtype='float32'), tf.constant(1000, dtype=\"float32\")\n",
    "\n",
    "def score(y_true, y_pred):\n",
    "    tf.dtypes.cast(y_true, tf.float32)\n",
    "    tf.dtypes.cast(y_pred, tf.float32)\n",
    "    sigma = y_pred[:, 2] - y_pred[:, 0]\n",
    "    fvc_pred = y_pred[:, 1]\n",
    "    \n",
    "    sigma_clip = tf.maximum(sigma, C1)\n",
    "    delta = tf.abs(y_true[:, 0] - fvc_pred)\n",
    "    delta = tf.minimum(delta, C2)\n",
    "    sq2 = tf.sqrt( tf.dtypes.cast(2, dtype=tf.float32) )\n",
    "    metric = (delta / sigma_clip)*sq2 + tf.math.log(sigma_clip* sq2)\n",
    "    return K.mean(metric)\n",
    "\n",
    "def qloss(y_true, y_pred):\n",
    "    qs = [0.2, 0.50, 0.8]\n",
    "    q = tf.constant(np.array([qs]), dtype=tf.float32)\n",
    "    e = y_true - y_pred\n",
    "    v = tf.maximum(q*e, (q-1)*e)\n",
    "    return K.mean(v)\n",
    "\n",
    "def mloss(_lambda):\n",
    "    def loss(y_true, y_pred):\n",
    "        return _lambda * qloss(y_true, y_pred) + (1 - _lambda)*score(y_true, y_pred)\n",
    "    return loss\n",
    "\n",
    "def laplace_log_likelihood(actual_fvc, predicted_fvc, confidence, return_values = False):\n",
    "    \"\"\"\n",
    "    Calculates the modified Laplace Log Likelihood score for this competition.\n",
    "    \"\"\"\n",
    "    sd_clipped = np.maximum(confidence, 70)\n",
    "    delta = np.minimum(np.abs(actual_fvc - predicted_fvc), 1000)\n",
    "    metric = - np.sqrt(2) * delta / sd_clipped - np.log(np.sqrt(2) * sd_clipped)\n",
    "\n",
    "    if return_values:\n",
    "        return metric\n",
    "    else:\n",
    "        return np.mean(metric)\n",
    "\n",
    "def make_model(nh):\n",
    "    z = L.Input((nh,), name=\"Patient\")\n",
    "    x = L.Dense(100, activation=\"relu\", name=\"d1\")(z)\n",
    "    x = L.Dense(100, activation=\"relu\", name=\"d2\")(x)\n",
    "    p1 = L.Dense(3, activation=\"linear\", name=\"p1\")(x)\n",
    "    p2 = L.Dense(3, activation=\"relu\", name=\"p2\")(x)\n",
    "    preds = L.Lambda(lambda x: x[0] + tf.cumsum(x[1], axis=1), \n",
    "                     name=\"preds\")([p1, p2])\n",
    "    \n",
    "    model = M.Model(z, preds, name=\"CNN\")\n",
    "    #model.compile(loss=qloss, optimizer=\"adam\", metrics=[score])\n",
    "    model.compile(loss=mloss(0.8), optimizer=tf.keras.optimizers.Adam(lr=0.1, beta_1=0.9, beta_2=0.999, epsilon=None, decay=0.01, amsgrad=False), metrics=[score])\n",
    "    return model"
   ]
  },
  {
   "cell_type": "code",
   "execution_count": 66,
   "metadata": {},
   "outputs": [],
   "source": [
    "## GET TRAINING DATA AND TARGET VALUE\n",
    "\n",
    "# get target value\n",
    "y  = tr['FVC'].values\n",
    "\n",
    "# get training & test data\n",
    "X_train = tr[FE].values\n",
    "X_test = sub[FE].values\n",
    "\n",
    "\n",
    "nh = X_train.shape[1]\n",
    "\n",
    "# instantiate target arrays\n",
    "train_preds = np.zeros((X_train.shape[0], 3))\n",
    "test_preds = np.zeros((X_test.shape[0], 3))"
   ]
  },
  {
   "cell_type": "code",
   "execution_count": 67,
   "metadata": {},
   "outputs": [
    {
     "name": "stdout",
     "output_type": "stream",
     "text": [
      "Model: \"CNN\"\n",
      "__________________________________________________________________________________________________\n",
      " Layer (type)                   Output Shape         Param #     Connected to                     \n",
      "==================================================================================================\n",
      " Patient (InputLayer)           [(None, 9)]          0           []                               \n",
      "                                                                                                  \n",
      " d1 (Dense)                     (None, 100)          1000        ['Patient[0][0]']                \n",
      "                                                                                                  \n",
      " d2 (Dense)                     (None, 100)          10100       ['d1[0][0]']                     \n",
      "                                                                                                  \n",
      " p1 (Dense)                     (None, 3)            303         ['d2[0][0]']                     \n",
      "                                                                                                  \n",
      " p2 (Dense)                     (None, 3)            303         ['d2[0][0]']                     \n",
      "                                                                                                  \n",
      " preds (Lambda)                 (None, 3)            0           ['p1[0][0]',                     \n",
      "                                                                  'p2[0][0]']                     \n",
      "                                                                                                  \n",
      "==================================================================================================\n",
      "Total params: 11,706\n",
      "Trainable params: 11,706\n",
      "Non-trainable params: 0\n",
      "__________________________________________________________________________________________________\n",
      "None\n",
      "11706\n"
     ]
    },
    {
     "name": "stderr",
     "output_type": "stream",
     "text": [
      "C:\\Users\\user\\Anaconda3\\envs\\keras-gpu\\lib\\site-packages\\keras\\optimizers\\optimizer_v2\\adam.py:110: UserWarning: The `lr` argument is deprecated, use `learning_rate` instead.\n",
      "  super(Adam, self).__init__(name, **kwargs)\n"
     ]
    }
   ],
   "source": [
    "net = make_model(nh)\n",
    "print(net.summary())\n",
    "print(net.count_params())"
   ]
  },
  {
   "cell_type": "code",
   "execution_count": 68,
   "metadata": {},
   "outputs": [],
   "source": [
    "y = y.astype(np.float32)"
   ]
  },
  {
   "cell_type": "code",
   "execution_count": 69,
   "metadata": {},
   "outputs": [
    {
     "data": {
      "text/plain": [
       "array([2315., 2214., 2061., ..., 2908., 2975., 2774.], dtype=float32)"
      ]
     },
     "execution_count": 69,
     "metadata": {},
     "output_type": "execute_result"
    }
   ],
   "source": [
    "y"
   ]
  },
  {
   "cell_type": "code",
   "execution_count": 70,
   "metadata": {},
   "outputs": [
    {
     "name": "stdout",
     "output_type": "stream",
     "text": [
      "FOLD 1\n",
      "WARNING:tensorflow:AutoGraph could not transform <function Model.make_train_function.<locals>.train_function at 0x0000014F8A638A68> and will run it as-is.\n",
      "Please report this to the TensorFlow team. When filing the bug, set the verbosity to 10 (on Linux, `export AUTOGRAPH_VERBOSITY=10`) and attach the full output.\n",
      "Cause: 'arguments' object has no attribute 'posonlyargs'\n",
      "To silence this warning, decorate the function with @tf.autograph.experimental.do_not_convert\n",
      "WARNING: AutoGraph could not transform <function Model.make_train_function.<locals>.train_function at 0x0000014F8A638A68> and will run it as-is.\n",
      "Please report this to the TensorFlow team. When filing the bug, set the verbosity to 10 (on Linux, `export AUTOGRAPH_VERBOSITY=10`) and attach the full output.\n",
      "Cause: 'arguments' object has no attribute 'posonlyargs'\n",
      "To silence this warning, decorate the function with @tf.autograph.experimental.do_not_convert\n",
      "WARNING:tensorflow:AutoGraph could not transform <function mloss.<locals>.loss at 0x0000014F89B04678> and will run it as-is.\n",
      "Please report this to the TensorFlow team. When filing the bug, set the verbosity to 10 (on Linux, `export AUTOGRAPH_VERBOSITY=10`) and attach the full output.\n",
      "Cause: 'arguments' object has no attribute 'posonlyargs'\n",
      "To silence this warning, decorate the function with @tf.autograph.experimental.do_not_convert\n",
      "WARNING: AutoGraph could not transform <function mloss.<locals>.loss at 0x0000014F89B04678> and will run it as-is.\n",
      "Please report this to the TensorFlow team. When filing the bug, set the verbosity to 10 (on Linux, `export AUTOGRAPH_VERBOSITY=10`) and attach the full output.\n",
      "Cause: 'arguments' object has no attribute 'posonlyargs'\n",
      "To silence this warning, decorate the function with @tf.autograph.experimental.do_not_convert\n"
     ]
    },
    {
     "name": "stderr",
     "output_type": "stream",
     "text": [
      "C:\\Users\\user\\Anaconda3\\envs\\keras-gpu\\lib\\site-packages\\keras\\optimizers\\optimizer_v2\\adam.py:110: UserWarning: The `lr` argument is deprecated, use `learning_rate` instead.\n",
      "  super(Adam, self).__init__(name, **kwargs)\n"
     ]
    },
    {
     "name": "stdout",
     "output_type": "stream",
     "text": [
      "WARNING:tensorflow:AutoGraph could not transform <function score at 0x0000014F89C790D8> and will run it as-is.\n",
      "Please report this to the TensorFlow team. When filing the bug, set the verbosity to 10 (on Linux, `export AUTOGRAPH_VERBOSITY=10`) and attach the full output.\n",
      "Cause: module 'gast' has no attribute 'Constant'\n",
      "To silence this warning, decorate the function with @tf.autograph.experimental.do_not_convert\n",
      "WARNING: AutoGraph could not transform <function score at 0x0000014F89C790D8> and will run it as-is.\n",
      "Please report this to the TensorFlow team. When filing the bug, set the verbosity to 10 (on Linux, `export AUTOGRAPH_VERBOSITY=10`) and attach the full output.\n",
      "Cause: module 'gast' has no attribute 'Constant'\n",
      "To silence this warning, decorate the function with @tf.autograph.experimental.do_not_convert\n",
      "WARNING:tensorflow:AutoGraph could not transform <function Model.make_test_function.<locals>.test_function at 0x0000014F8A664DC8> and will run it as-is.\n",
      "Please report this to the TensorFlow team. When filing the bug, set the verbosity to 10 (on Linux, `export AUTOGRAPH_VERBOSITY=10`) and attach the full output.\n",
      "Cause: 'arguments' object has no attribute 'posonlyargs'\n",
      "To silence this warning, decorate the function with @tf.autograph.experimental.do_not_convert\n",
      "WARNING: AutoGraph could not transform <function Model.make_test_function.<locals>.test_function at 0x0000014F8A664DC8> and will run it as-is.\n",
      "Please report this to the TensorFlow team. When filing the bug, set the verbosity to 10 (on Linux, `export AUTOGRAPH_VERBOSITY=10`) and attach the full output.\n",
      "Cause: 'arguments' object has no attribute 'posonlyargs'\n",
      "To silence this warning, decorate the function with @tf.autograph.experimental.do_not_convert\n",
      "train [39.24629211425781, 6.463183403015137]\n",
      "val [40.77925109863281, 6.5740966796875]\n",
      "WARNING:tensorflow:AutoGraph could not transform <function Model.make_predict_function.<locals>.predict_function at 0x0000014F8C5C9EE8> and will run it as-is.\n",
      "Please report this to the TensorFlow team. When filing the bug, set the verbosity to 10 (on Linux, `export AUTOGRAPH_VERBOSITY=10`) and attach the full output.\n",
      "Cause: 'arguments' object has no attribute 'posonlyargs'\n",
      "To silence this warning, decorate the function with @tf.autograph.experimental.do_not_convert\n",
      "WARNING: AutoGraph could not transform <function Model.make_predict_function.<locals>.predict_function at 0x0000014F8C5C9EE8> and will run it as-is.\n",
      "Please report this to the TensorFlow team. When filing the bug, set the verbosity to 10 (on Linux, `export AUTOGRAPH_VERBOSITY=10`) and attach the full output.\n",
      "Cause: 'arguments' object has no attribute 'posonlyargs'\n",
      "To silence this warning, decorate the function with @tf.autograph.experimental.do_not_convert\n",
      "predict test...\n",
      "FOLD 2\n",
      "WARNING:tensorflow:AutoGraph could not transform <function Model.make_train_function.<locals>.train_function at 0x0000014F8C676438> and will run it as-is.\n",
      "Please report this to the TensorFlow team. When filing the bug, set the verbosity to 10 (on Linux, `export AUTOGRAPH_VERBOSITY=10`) and attach the full output.\n",
      "Cause: 'arguments' object has no attribute 'posonlyargs'\n",
      "To silence this warning, decorate the function with @tf.autograph.experimental.do_not_convert\n",
      "WARNING: AutoGraph could not transform <function Model.make_train_function.<locals>.train_function at 0x0000014F8C676438> and will run it as-is.\n",
      "Please report this to the TensorFlow team. When filing the bug, set the verbosity to 10 (on Linux, `export AUTOGRAPH_VERBOSITY=10`) and attach the full output.\n",
      "Cause: 'arguments' object has no attribute 'posonlyargs'\n",
      "To silence this warning, decorate the function with @tf.autograph.experimental.do_not_convert\n",
      "WARNING:tensorflow:AutoGraph could not transform <function mloss.<locals>.loss at 0x0000014F8C676D38> and will run it as-is.\n",
      "Please report this to the TensorFlow team. When filing the bug, set the verbosity to 10 (on Linux, `export AUTOGRAPH_VERBOSITY=10`) and attach the full output.\n",
      "Cause: 'arguments' object has no attribute 'posonlyargs'\n",
      "To silence this warning, decorate the function with @tf.autograph.experimental.do_not_convert\n",
      "WARNING: AutoGraph could not transform <function mloss.<locals>.loss at 0x0000014F8C676D38> and will run it as-is.\n",
      "Please report this to the TensorFlow team. When filing the bug, set the verbosity to 10 (on Linux, `export AUTOGRAPH_VERBOSITY=10`) and attach the full output.\n",
      "Cause: 'arguments' object has no attribute 'posonlyargs'\n",
      "To silence this warning, decorate the function with @tf.autograph.experimental.do_not_convert\n",
      "WARNING:tensorflow:AutoGraph could not transform <function Model.make_test_function.<locals>.test_function at 0x0000014F8EFC8438> and will run it as-is.\n",
      "Please report this to the TensorFlow team. When filing the bug, set the verbosity to 10 (on Linux, `export AUTOGRAPH_VERBOSITY=10`) and attach the full output.\n",
      "Cause: 'arguments' object has no attribute 'posonlyargs'\n",
      "To silence this warning, decorate the function with @tf.autograph.experimental.do_not_convert\n",
      "WARNING: AutoGraph could not transform <function Model.make_test_function.<locals>.test_function at 0x0000014F8EFC8438> and will run it as-is.\n",
      "Please report this to the TensorFlow team. When filing the bug, set the verbosity to 10 (on Linux, `export AUTOGRAPH_VERBOSITY=10`) and attach the full output.\n",
      "Cause: 'arguments' object has no attribute 'posonlyargs'\n",
      "To silence this warning, decorate the function with @tf.autograph.experimental.do_not_convert\n",
      "train [37.79692840576172, 6.424067497253418]\n",
      "val [55.92242431640625, 6.849629878997803]\n",
      "WARNING:tensorflow:AutoGraph could not transform <function Model.make_predict_function.<locals>.predict_function at 0x0000014F922C60D8> and will run it as-is.\n",
      "Please report this to the TensorFlow team. When filing the bug, set the verbosity to 10 (on Linux, `export AUTOGRAPH_VERBOSITY=10`) and attach the full output.\n",
      "Cause: 'arguments' object has no attribute 'posonlyargs'\n",
      "To silence this warning, decorate the function with @tf.autograph.experimental.do_not_convert\n",
      "WARNING: AutoGraph could not transform <function Model.make_predict_function.<locals>.predict_function at 0x0000014F922C60D8> and will run it as-is.\n",
      "Please report this to the TensorFlow team. When filing the bug, set the verbosity to 10 (on Linux, `export AUTOGRAPH_VERBOSITY=10`) and attach the full output.\n",
      "Cause: 'arguments' object has no attribute 'posonlyargs'\n",
      "To silence this warning, decorate the function with @tf.autograph.experimental.do_not_convert\n",
      "predict test...\n",
      "FOLD 3\n",
      "WARNING:tensorflow:AutoGraph could not transform <function Model.make_train_function.<locals>.train_function at 0x0000014F922C6438> and will run it as-is.\n",
      "Please report this to the TensorFlow team. When filing the bug, set the verbosity to 10 (on Linux, `export AUTOGRAPH_VERBOSITY=10`) and attach the full output.\n",
      "Cause: 'arguments' object has no attribute 'posonlyargs'\n",
      "To silence this warning, decorate the function with @tf.autograph.experimental.do_not_convert\n",
      "WARNING: AutoGraph could not transform <function Model.make_train_function.<locals>.train_function at 0x0000014F922C6438> and will run it as-is.\n",
      "Please report this to the TensorFlow team. When filing the bug, set the verbosity to 10 (on Linux, `export AUTOGRAPH_VERBOSITY=10`) and attach the full output.\n",
      "Cause: 'arguments' object has no attribute 'posonlyargs'\n",
      "To silence this warning, decorate the function with @tf.autograph.experimental.do_not_convert\n",
      "WARNING:tensorflow:AutoGraph could not transform <function mloss.<locals>.loss at 0x0000014F92654CA8> and will run it as-is.\n",
      "Please report this to the TensorFlow team. When filing the bug, set the verbosity to 10 (on Linux, `export AUTOGRAPH_VERBOSITY=10`) and attach the full output.\n",
      "Cause: 'arguments' object has no attribute 'posonlyargs'\n",
      "To silence this warning, decorate the function with @tf.autograph.experimental.do_not_convert\n",
      "WARNING: AutoGraph could not transform <function mloss.<locals>.loss at 0x0000014F92654CA8> and will run it as-is.\n",
      "Please report this to the TensorFlow team. When filing the bug, set the verbosity to 10 (on Linux, `export AUTOGRAPH_VERBOSITY=10`) and attach the full output.\n",
      "Cause: 'arguments' object has no attribute 'posonlyargs'\n",
      "To silence this warning, decorate the function with @tf.autograph.experimental.do_not_convert\n"
     ]
    },
    {
     "name": "stdout",
     "output_type": "stream",
     "text": [
      "WARNING:tensorflow:AutoGraph could not transform <function Model.make_test_function.<locals>.test_function at 0x0000014F93ADD8B8> and will run it as-is.\n",
      "Please report this to the TensorFlow team. When filing the bug, set the verbosity to 10 (on Linux, `export AUTOGRAPH_VERBOSITY=10`) and attach the full output.\n",
      "Cause: 'arguments' object has no attribute 'posonlyargs'\n",
      "To silence this warning, decorate the function with @tf.autograph.experimental.do_not_convert\n",
      "WARNING: AutoGraph could not transform <function Model.make_test_function.<locals>.test_function at 0x0000014F93ADD8B8> and will run it as-is.\n",
      "Please report this to the TensorFlow team. When filing the bug, set the verbosity to 10 (on Linux, `export AUTOGRAPH_VERBOSITY=10`) and attach the full output.\n",
      "Cause: 'arguments' object has no attribute 'posonlyargs'\n",
      "To silence this warning, decorate the function with @tf.autograph.experimental.do_not_convert\n",
      "train [39.55009841918945, 6.501192569732666]\n",
      "val [54.81645202636719, 6.98070764541626]\n",
      "WARNING:tensorflow:AutoGraph could not transform <function Model.make_predict_function.<locals>.predict_function at 0x0000014F94748E58> and will run it as-is.\n",
      "Please report this to the TensorFlow team. When filing the bug, set the verbosity to 10 (on Linux, `export AUTOGRAPH_VERBOSITY=10`) and attach the full output.\n",
      "Cause: 'arguments' object has no attribute 'posonlyargs'\n",
      "To silence this warning, decorate the function with @tf.autograph.experimental.do_not_convert\n",
      "WARNING: AutoGraph could not transform <function Model.make_predict_function.<locals>.predict_function at 0x0000014F94748E58> and will run it as-is.\n",
      "Please report this to the TensorFlow team. When filing the bug, set the verbosity to 10 (on Linux, `export AUTOGRAPH_VERBOSITY=10`) and attach the full output.\n",
      "Cause: 'arguments' object has no attribute 'posonlyargs'\n",
      "To silence this warning, decorate the function with @tf.autograph.experimental.do_not_convert\n",
      "predict test...\n",
      "FOLD 4\n",
      "WARNING:tensorflow:AutoGraph could not transform <function Model.make_train_function.<locals>.train_function at 0x0000014F9485A798> and will run it as-is.\n",
      "Please report this to the TensorFlow team. When filing the bug, set the verbosity to 10 (on Linux, `export AUTOGRAPH_VERBOSITY=10`) and attach the full output.\n",
      "Cause: 'arguments' object has no attribute 'posonlyargs'\n",
      "To silence this warning, decorate the function with @tf.autograph.experimental.do_not_convert\n",
      "WARNING: AutoGraph could not transform <function Model.make_train_function.<locals>.train_function at 0x0000014F9485A798> and will run it as-is.\n",
      "Please report this to the TensorFlow team. When filing the bug, set the verbosity to 10 (on Linux, `export AUTOGRAPH_VERBOSITY=10`) and attach the full output.\n",
      "Cause: 'arguments' object has no attribute 'posonlyargs'\n",
      "To silence this warning, decorate the function with @tf.autograph.experimental.do_not_convert\n",
      "WARNING:tensorflow:AutoGraph could not transform <function mloss.<locals>.loss at 0x0000014F9485A168> and will run it as-is.\n",
      "Please report this to the TensorFlow team. When filing the bug, set the verbosity to 10 (on Linux, `export AUTOGRAPH_VERBOSITY=10`) and attach the full output.\n",
      "Cause: 'arguments' object has no attribute 'posonlyargs'\n",
      "To silence this warning, decorate the function with @tf.autograph.experimental.do_not_convert\n",
      "WARNING: AutoGraph could not transform <function mloss.<locals>.loss at 0x0000014F9485A168> and will run it as-is.\n",
      "Please report this to the TensorFlow team. When filing the bug, set the verbosity to 10 (on Linux, `export AUTOGRAPH_VERBOSITY=10`) and attach the full output.\n",
      "Cause: 'arguments' object has no attribute 'posonlyargs'\n",
      "To silence this warning, decorate the function with @tf.autograph.experimental.do_not_convert\n",
      "WARNING:tensorflow:AutoGraph could not transform <function Model.make_test_function.<locals>.test_function at 0x0000014F96AD19D8> and will run it as-is.\n",
      "Please report this to the TensorFlow team. When filing the bug, set the verbosity to 10 (on Linux, `export AUTOGRAPH_VERBOSITY=10`) and attach the full output.\n",
      "Cause: 'arguments' object has no attribute 'posonlyargs'\n",
      "To silence this warning, decorate the function with @tf.autograph.experimental.do_not_convert\n",
      "WARNING: AutoGraph could not transform <function Model.make_test_function.<locals>.test_function at 0x0000014F96AD19D8> and will run it as-is.\n",
      "Please report this to the TensorFlow team. When filing the bug, set the verbosity to 10 (on Linux, `export AUTOGRAPH_VERBOSITY=10`) and attach the full output.\n",
      "Cause: 'arguments' object has no attribute 'posonlyargs'\n",
      "To silence this warning, decorate the function with @tf.autograph.experimental.do_not_convert\n",
      "train [40.807464599609375, 6.531225681304932]\n",
      "val [47.61213684082031, 6.654099941253662]\n",
      "WARNING:tensorflow:AutoGraph could not transform <function Model.make_predict_function.<locals>.predict_function at 0x0000014F97254AF8> and will run it as-is.\n",
      "Please report this to the TensorFlow team. When filing the bug, set the verbosity to 10 (on Linux, `export AUTOGRAPH_VERBOSITY=10`) and attach the full output.\n",
      "Cause: 'arguments' object has no attribute 'posonlyargs'\n",
      "To silence this warning, decorate the function with @tf.autograph.experimental.do_not_convert\n",
      "WARNING: AutoGraph could not transform <function Model.make_predict_function.<locals>.predict_function at 0x0000014F97254AF8> and will run it as-is.\n",
      "Please report this to the TensorFlow team. When filing the bug, set the verbosity to 10 (on Linux, `export AUTOGRAPH_VERBOSITY=10`) and attach the full output.\n",
      "Cause: 'arguments' object has no attribute 'posonlyargs'\n",
      "To silence this warning, decorate the function with @tf.autograph.experimental.do_not_convert\n",
      "predict test...\n",
      "FOLD 5\n",
      "WARNING:tensorflow:AutoGraph could not transform <function Model.make_train_function.<locals>.train_function at 0x0000014F97259E58> and will run it as-is.\n",
      "Please report this to the TensorFlow team. When filing the bug, set the verbosity to 10 (on Linux, `export AUTOGRAPH_VERBOSITY=10`) and attach the full output.\n",
      "Cause: 'arguments' object has no attribute 'posonlyargs'\n",
      "To silence this warning, decorate the function with @tf.autograph.experimental.do_not_convert\n",
      "WARNING: AutoGraph could not transform <function Model.make_train_function.<locals>.train_function at 0x0000014F97259E58> and will run it as-is.\n",
      "Please report this to the TensorFlow team. When filing the bug, set the verbosity to 10 (on Linux, `export AUTOGRAPH_VERBOSITY=10`) and attach the full output.\n",
      "Cause: 'arguments' object has no attribute 'posonlyargs'\n",
      "To silence this warning, decorate the function with @tf.autograph.experimental.do_not_convert\n",
      "WARNING:tensorflow:AutoGraph could not transform <function mloss.<locals>.loss at 0x0000014F97259A68> and will run it as-is.\n",
      "Please report this to the TensorFlow team. When filing the bug, set the verbosity to 10 (on Linux, `export AUTOGRAPH_VERBOSITY=10`) and attach the full output.\n",
      "Cause: 'arguments' object has no attribute 'posonlyargs'\n",
      "To silence this warning, decorate the function with @tf.autograph.experimental.do_not_convert\n",
      "WARNING: AutoGraph could not transform <function mloss.<locals>.loss at 0x0000014F97259A68> and will run it as-is.\n",
      "Please report this to the TensorFlow team. When filing the bug, set the verbosity to 10 (on Linux, `export AUTOGRAPH_VERBOSITY=10`) and attach the full output.\n",
      "Cause: 'arguments' object has no attribute 'posonlyargs'\n",
      "To silence this warning, decorate the function with @tf.autograph.experimental.do_not_convert\n",
      "WARNING:tensorflow:AutoGraph could not transform <function Model.make_test_function.<locals>.test_function at 0x0000014F97D2A5E8> and will run it as-is.\n",
      "Please report this to the TensorFlow team. When filing the bug, set the verbosity to 10 (on Linux, `export AUTOGRAPH_VERBOSITY=10`) and attach the full output.\n",
      "Cause: 'arguments' object has no attribute 'posonlyargs'\n",
      "To silence this warning, decorate the function with @tf.autograph.experimental.do_not_convert\n",
      "WARNING: AutoGraph could not transform <function Model.make_test_function.<locals>.test_function at 0x0000014F97D2A5E8> and will run it as-is.\n",
      "Please report this to the TensorFlow team. When filing the bug, set the verbosity to 10 (on Linux, `export AUTOGRAPH_VERBOSITY=10`) and attach the full output.\n",
      "Cause: 'arguments' object has no attribute 'posonlyargs'\n",
      "To silence this warning, decorate the function with @tf.autograph.experimental.do_not_convert\n"
     ]
    },
    {
     "name": "stdout",
     "output_type": "stream",
     "text": [
      "train [40.77476501464844, 6.516221523284912]\n",
      "val [46.2763557434082, 6.68809700012207]\n",
      "WARNING:tensorflow:AutoGraph could not transform <function Model.make_predict_function.<locals>.predict_function at 0x0000014F97F6B678> and will run it as-is.\n",
      "Please report this to the TensorFlow team. When filing the bug, set the verbosity to 10 (on Linux, `export AUTOGRAPH_VERBOSITY=10`) and attach the full output.\n",
      "Cause: 'arguments' object has no attribute 'posonlyargs'\n",
      "To silence this warning, decorate the function with @tf.autograph.experimental.do_not_convert\n",
      "WARNING: AutoGraph could not transform <function Model.make_predict_function.<locals>.predict_function at 0x0000014F97F6B678> and will run it as-is.\n",
      "Please report this to the TensorFlow team. When filing the bug, set the verbosity to 10 (on Linux, `export AUTOGRAPH_VERBOSITY=10`) and attach the full output.\n",
      "Cause: 'arguments' object has no attribute 'posonlyargs'\n",
      "To silence this warning, decorate the function with @tf.autograph.experimental.do_not_convert\n",
      "predict test...\n"
     ]
    }
   ],
   "source": [
    "model_cnt = 1\n",
    "# instantiate target arrays\n",
    "globals()['train_preds_{}'.format(model_cnt)] = np.zeros((X_train.shape[0], 3))\n",
    "globals()['test_preds_{}'.format(model_cnt)] = np.zeros((X_test.shape[0], 3))\n",
    "\n",
    "NFOLD = 5\n",
    "gkf = GroupKFold(n_splits=NFOLD)\n",
    "groups = tr['Patient'].values\n",
    "\n",
    "cnt = 0\n",
    "EPOCHS = 800\n",
    "BATCH_SIZE=128\n",
    "\n",
    "for tr_idx, val_idx in gkf.split(X_train,y, groups):\n",
    "    cnt += 1\n",
    "    print(f\"FOLD {cnt}\")\n",
    "    net = make_model(nh)\n",
    "    net.fit(X_train[tr_idx], y[tr_idx], batch_size=BATCH_SIZE, epochs=EPOCHS,validation_data=(X_train[val_idx], y[val_idx]), verbose=0) #\n",
    "    print(\"train\", net.evaluate(X_train[tr_idx], y[tr_idx], verbose=0, batch_size=BATCH_SIZE))\n",
    "    print(\"val\", net.evaluate(X_train[val_idx], y[val_idx], verbose=0, batch_size=BATCH_SIZE))\n",
    "        #print(\"predict val...\")\n",
    "    globals()['train_preds_{}'.format(model_cnt)][val_idx] = net.predict(X_train[val_idx], batch_size=BATCH_SIZE, verbose=0)\n",
    "    print(\"predict test...\")\n",
    "    globals()['test_preds_{}'.format(model_cnt)] += net.predict(X_test, batch_size=BATCH_SIZE, verbose=0) / NFOLD"
   ]
  },
  {
   "cell_type": "code",
   "execution_count": 71,
   "metadata": {},
   "outputs": [
    {
     "name": "stdout",
     "output_type": "stream",
     "text": [
      "Overall Score:  -6.711942603937465\n"
     ]
    }
   ],
   "source": [
    "predicted_fvc = globals()['train_preds_{}'.format(model_cnt)][:,1]\n",
    "confidence = globals()['train_preds_{}'.format(model_cnt)][:,2]-globals()['train_preds_{}'.format(model_cnt)][:,0]\n",
    "model_score = laplace_log_likelihood(actual_fvc = y, predicted_fvc = predicted_fvc, confidence = confidence,\n",
    "                       return_values = False)\n",
    "print('Overall Score: ', model_score)"
   ]
  },
  {
   "cell_type": "code",
   "execution_count": 75,
   "metadata": {},
   "outputs": [
    {
     "ename": "NameError",
     "evalue": "name 'df' is not defined",
     "output_type": "error",
     "traceback": [
      "\u001b[1;31m---------------------------------------------------------------------------\u001b[0m",
      "\u001b[1;31mNameError\u001b[0m                                 Traceback (most recent call last)",
      "\u001b[1;32m~\\AppData\\Local\\Temp\\ipykernel_4820\\2642347020.py\u001b[0m in \u001b[0;36m<module>\u001b[1;34m\u001b[0m\n\u001b[1;32m----> 1\u001b[1;33m \u001b[0mdf\u001b[0m\u001b[1;33m.\u001b[0m\u001b[0mto_csv\u001b[0m\u001b[1;33m(\u001b[0m\u001b[1;34m'submission_kaggle.csv'\u001b[0m\u001b[1;33m,\u001b[0m \u001b[0mindex\u001b[0m\u001b[1;33m=\u001b[0m\u001b[1;32mFalse\u001b[0m\u001b[1;33m)\u001b[0m\u001b[1;33m\u001b[0m\u001b[1;33m\u001b[0m\u001b[0m\n\u001b[0m",
      "\u001b[1;31mNameError\u001b[0m: name 'df' is not defined"
     ]
    }
   ],
   "source": [
    "df.to_csv('submission_kaggle.csv', index=False)"
   ]
  },
  {
   "cell_type": "code",
   "execution_count": 78,
   "metadata": {},
   "outputs": [],
   "source": [
    "from sklearn.metrics import mean_absolute_error as MAE\n",
    "from sklearn.metrics import mean_absolute_error\n"
   ]
  },
  {
   "cell_type": "code",
   "execution_count": 79,
   "metadata": {},
   "outputs": [
    {
     "ename": "NameError",
     "evalue": "name 'pred' is not defined",
     "output_type": "error",
     "traceback": [
      "\u001b[1;31m---------------------------------------------------------------------------\u001b[0m",
      "\u001b[1;31mNameError\u001b[0m                                 Traceback (most recent call last)",
      "\u001b[1;32m~\\AppData\\Local\\Temp\\ipykernel_4820\\2785872833.py\u001b[0m in \u001b[0;36m<module>\u001b[1;34m\u001b[0m\n\u001b[1;32m----> 1\u001b[1;33m \u001b[0msigma_opt\u001b[0m \u001b[1;33m=\u001b[0m \u001b[0mmean_absolute_error\u001b[0m\u001b[1;33m(\u001b[0m\u001b[0my\u001b[0m\u001b[1;33m,\u001b[0m \u001b[0mpred\u001b[0m\u001b[1;33m[\u001b[0m\u001b[1;33m:\u001b[0m\u001b[1;33m,\u001b[0m \u001b[1;36m1\u001b[0m\u001b[1;33m]\u001b[0m\u001b[1;33m)\u001b[0m\u001b[1;33m\u001b[0m\u001b[1;33m\u001b[0m\u001b[0m\n\u001b[0m\u001b[0;32m      2\u001b[0m \u001b[0munc\u001b[0m \u001b[1;33m=\u001b[0m \u001b[0mpred\u001b[0m\u001b[1;33m[\u001b[0m\u001b[1;33m:\u001b[0m\u001b[1;33m,\u001b[0m\u001b[1;36m2\u001b[0m\u001b[1;33m]\u001b[0m \u001b[1;33m-\u001b[0m \u001b[0mpred\u001b[0m\u001b[1;33m[\u001b[0m\u001b[1;33m:\u001b[0m\u001b[1;33m,\u001b[0m \u001b[1;36m0\u001b[0m\u001b[1;33m]\u001b[0m\u001b[1;33m\u001b[0m\u001b[1;33m\u001b[0m\u001b[0m\n\u001b[0;32m      3\u001b[0m \u001b[0msigma_mean\u001b[0m \u001b[1;33m=\u001b[0m \u001b[0mnp\u001b[0m\u001b[1;33m.\u001b[0m\u001b[0mmean\u001b[0m\u001b[1;33m(\u001b[0m\u001b[0munc\u001b[0m\u001b[1;33m)\u001b[0m\u001b[1;33m\u001b[0m\u001b[1;33m\u001b[0m\u001b[0m\n\u001b[0;32m      4\u001b[0m \u001b[0mprint\u001b[0m\u001b[1;33m(\u001b[0m\u001b[0msigma_opt\u001b[0m\u001b[1;33m,\u001b[0m \u001b[0msigma_mean\u001b[0m\u001b[1;33m)\u001b[0m\u001b[1;33m\u001b[0m\u001b[1;33m\u001b[0m\u001b[0m\n",
      "\u001b[1;31mNameError\u001b[0m: name 'pred' is not defined"
     ]
    }
   ],
   "source": [
    "sigma_opt = mean_absolute_error(y, pred[:, 1])\n",
    "unc = pred[:,2] - pred[:, 0]\n",
    "sigma_mean = np.mean(unc)\n",
    "print(sigma_opt, sigma_mean)"
   ]
  },
  {
   "cell_type": "code",
   "execution_count": null,
   "metadata": {},
   "outputs": [],
   "source": [
    "idxs = np.random.randint(0, y.shape[0], 100)\n",
    "plt.plot(y[idxs], label=\"ground truth\")\n",
    "plt.plot(pred[idxs, 0], label=\"q25\")\n",
    "plt.plot(pred[idxs, 1], label=\"q50\")\n",
    "plt.plot(pred[idxs, 2], label=\"q75\")\n",
    "plt.legend(loc=\"best\")\n",
    "plt.show()"
   ]
  },
  {
   "cell_type": "code",
   "execution_count": null,
   "metadata": {},
   "outputs": [],
   "source": [
    "print(unc.min(), unc.mean(), unc.max(), (unc>=0).mean())"
   ]
  },
  {
   "cell_type": "code",
   "execution_count": null,
   "metadata": {},
   "outputs": [],
   "source": [
    "plt.hist(unc)\n",
    "plt.title(\"uncertainty in prediction\")\n",
    "plt.show()"
   ]
  },
  {
   "cell_type": "code",
   "execution_count": null,
   "metadata": {},
   "outputs": [],
   "source": [
    "sub.head()"
   ]
  },
  {
   "cell_type": "code",
   "execution_count": null,
   "metadata": {},
   "outputs": [],
   "source": [
    "# PREDICTION\n",
    "sub['FVC1'] = 1.*pe[:, 1]\n",
    "sub['Confidence1'] = pe[:, 2] - pe[:, 0]\n",
    "subm = sub[['Patient_Week','FVC','Confidence','FVC1','Confidence1']].copy()\n",
    "subm.loc[~subm.FVC1.isnull()].head(10)"
   ]
  },
  {
   "cell_type": "code",
   "execution_count": null,
   "metadata": {},
   "outputs": [],
   "source": [
    "subm.loc[~subm.FVC1.isnull(),'FVC'] = subm.loc[~subm.FVC1.isnull(),'FVC1']\n",
    "sigma_mean = 60\n",
    "if sigma_mean<sigma_mean:\n",
    "    subm['Confidence'] = sigma_opt\n",
    "else:\n",
    "    subm.loc[~subm.FVC1.isnull(),'Confidence'] = subm.loc[~subm.FVC1.isnull(),'Confidence1']"
   ]
  },
  {
   "cell_type": "code",
   "execution_count": null,
   "metadata": {},
   "outputs": [],
   "source": [
    "subm.head()"
   ]
  },
  {
   "cell_type": "code",
   "execution_count": null,
   "metadata": {},
   "outputs": [],
   "source": [
    "subm.describe().T"
   ]
  },
  {
   "cell_type": "code",
   "execution_count": null,
   "metadata": {},
   "outputs": [],
   "source": [
    "otest = pd.read_csv('../input/osic-pulmonary-fibrosis-progression/test.csv')\n",
    "for i in range(len(otest)):\n",
    "    subm.loc[subm['Patient_Week']==otest.Patient[i]+'_'+str(otest.Weeks[i]), 'FVC'] = otest.FVC[i]\n",
    "    subm.loc[subm['Patient_Week']==otest.Patient[i]+'_'+str(otest.Weeks[i]), 'Confidence'] = 0.1"
   ]
  },
  {
   "cell_type": "code",
   "execution_count": null,
   "metadata": {},
   "outputs": [],
   "source": [
    "subm[[\"Patient_Week\",\"FVC\",\"Confidence\"]].to_csv(\"submission_regression.csv\", index=False)"
   ]
  },
  {
   "cell_type": "code",
   "execution_count": null,
   "metadata": {},
   "outputs": [],
   "source": [
    "reg_sub = subm[[\"Patient_Week\",\"FVC\",\"Confidence\"]].copy()"
   ]
  },
  {
   "cell_type": "code",
   "execution_count": null,
   "metadata": {},
   "outputs": [],
   "source": [
    "df1 = img_sub.sort_values(by=['Patient_Week'], ascending=True).reset_index(drop=True)\n",
    "df2 = reg_sub.sort_values(by=['Patient_Week'], ascending=True).reset_index(drop=True)"
   ]
  },
  {
   "cell_type": "code",
   "execution_count": null,
   "metadata": {},
   "outputs": [],
   "source": [
    "df = df1[['Patient_Week']].copy()\n",
    "df['FVC'] = (0.45*df1['FVC'] + 0.55*df2['FVC'])\n",
    "df['Confidence'] = (0.45*df1['Confidence'] + 0.55*df2['Confidence'])\n",
    "df.head()"
   ]
  },
  {
   "cell_type": "code",
   "execution_count": null,
   "metadata": {},
   "outputs": [],
   "source": []
  },
  {
   "cell_type": "code",
   "execution_count": null,
   "metadata": {},
   "outputs": [],
   "source": [
    "df.to_csv('submission_kaggle.csv', index=False)"
   ]
  },
  {
   "cell_type": "code",
   "execution_count": null,
   "metadata": {},
   "outputs": [],
   "source": []
  },
  {
   "cell_type": "code",
   "execution_count": null,
   "metadata": {},
   "outputs": [],
   "source": []
  },
  {
   "cell_type": "code",
   "execution_count": null,
   "metadata": {},
   "outputs": [],
   "source": []
  }
 ],
 "metadata": {
  "kernelspec": {
   "display_name": "Python 3 (ipykernel)",
   "language": "python",
   "name": "python3"
  },
  "language_info": {
   "codemirror_mode": {
    "name": "ipython",
    "version": 3
   },
   "file_extension": ".py",
   "mimetype": "text/x-python",
   "name": "python",
   "nbconvert_exporter": "python",
   "pygments_lexer": "ipython3",
   "version": "3.7.7"
  }
 },
 "nbformat": 4,
 "nbformat_minor": 4
}
